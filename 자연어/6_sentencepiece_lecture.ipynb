{
 "cells": [
  {
   "attachments": {},
   "cell_type": "markdown",
   "metadata": {},
   "source": [
    "### Sentencepiece : NSMC 데이터로 tokenizer 구성해보기\n",
    ": https://github.com/google/sentencepiece  \n",
    "\n",
    "내부 단어 분리를 위한 유용한 패키지로 구글의 센텐스피스(Sentencepiece)가 있습니다.\n",
    "\n",
    "내부 단어 분리 알고리즘을 사용하기 위해서, 데이터에 단어 토큰화를 먼저 진행한 상태여야 한다면 이 단어 분리 알고리즘을 모든 언어에 사용하는 것은 쉽지 않습니다. 영어와 달리 한국어와 같은 언어는 단어 토큰화부터가 쉽지 않기 때문입니다. 그런데, 이런 사전 토큰화 작업(pretokenization)없이 전처리를 하지 않은 데이터(raw data)에 바로 단어 분리 토크나이저를 사용할 수 있다면, 이 토크나이저는 그 어떤 언어에도 적용할 수 있는 토크나이저가 될 것입니다. 센텐스피스는 이 이점을 살려서 구현되었습니다. 센텐스피스는 사전 토큰화 작업없이 단어 분리 토큰화를 수행하므로 언어에 종속되지 않습니다."
   ]
  },
  {
   "cell_type": "code",
   "execution_count": null,
   "metadata": {},
   "outputs": [],
   "source": [
    "# !pip install sentencepiece"
   ]
  },
  {
   "cell_type": "code",
   "execution_count": 1,
   "metadata": {},
   "outputs": [],
   "source": [
    "import pandas as pd\n",
    "import sentencepiece as spm\n",
    "import csv"
   ]
  },
  {
   "cell_type": "code",
   "execution_count": 2,
   "metadata": {},
   "outputs": [
    {
     "name": "stdout",
     "output_type": "stream",
     "text": [
      "150000\n"
     ]
    },
    {
     "data": {
      "text/html": [
       "<div>\n",
       "<style scoped>\n",
       "    .dataframe tbody tr th:only-of-type {\n",
       "        vertical-align: middle;\n",
       "    }\n",
       "\n",
       "    .dataframe tbody tr th {\n",
       "        vertical-align: top;\n",
       "    }\n",
       "\n",
       "    .dataframe thead th {\n",
       "        text-align: right;\n",
       "    }\n",
       "</style>\n",
       "<table border=\"1\" class=\"dataframe\">\n",
       "  <thead>\n",
       "    <tr style=\"text-align: right;\">\n",
       "      <th></th>\n",
       "      <th>id</th>\n",
       "      <th>document</th>\n",
       "      <th>label</th>\n",
       "    </tr>\n",
       "  </thead>\n",
       "  <tbody>\n",
       "    <tr>\n",
       "      <th>0</th>\n",
       "      <td>9976970</td>\n",
       "      <td>아 더빙.. 진짜 짜증나네요 목소리</td>\n",
       "      <td>0</td>\n",
       "    </tr>\n",
       "    <tr>\n",
       "      <th>1</th>\n",
       "      <td>3819312</td>\n",
       "      <td>흠...포스터보고 초딩영화줄....오버연기조차 가볍지 않구나</td>\n",
       "      <td>1</td>\n",
       "    </tr>\n",
       "    <tr>\n",
       "      <th>2</th>\n",
       "      <td>10265843</td>\n",
       "      <td>너무재밓었다그래서보는것을추천한다</td>\n",
       "      <td>0</td>\n",
       "    </tr>\n",
       "    <tr>\n",
       "      <th>3</th>\n",
       "      <td>9045019</td>\n",
       "      <td>교도소 이야기구먼 ..솔직히 재미는 없다..평점 조정</td>\n",
       "      <td>0</td>\n",
       "    </tr>\n",
       "    <tr>\n",
       "      <th>4</th>\n",
       "      <td>6483659</td>\n",
       "      <td>사이몬페그의 익살스런 연기가 돋보였던 영화!스파이더맨에서 늙어보이기만 했던 커스틴 ...</td>\n",
       "      <td>1</td>\n",
       "    </tr>\n",
       "  </tbody>\n",
       "</table>\n",
       "</div>"
      ],
      "text/plain": [
       "         id                                           document  label\n",
       "0   9976970                                아 더빙.. 진짜 짜증나네요 목소리      0\n",
       "1   3819312                  흠...포스터보고 초딩영화줄....오버연기조차 가볍지 않구나      1\n",
       "2  10265843                                  너무재밓었다그래서보는것을추천한다      0\n",
       "3   9045019                      교도소 이야기구먼 ..솔직히 재미는 없다..평점 조정      0\n",
       "4   6483659  사이몬페그의 익살스런 연기가 돋보였던 영화!스파이더맨에서 늙어보이기만 했던 커스틴 ...      1"
      ]
     },
     "execution_count": 2,
     "metadata": {},
     "output_type": "execute_result"
    }
   ],
   "source": [
    "# 데이터 읽어오기 : ratings_train.txt\n",
    "naver_df = pd.read_table('./data/ratings_train.txt')\n",
    "print(len(naver_df))\n",
    "naver_df[:5]"
   ]
  },
  {
   "cell_type": "code",
   "execution_count": 3,
   "metadata": {},
   "outputs": [
    {
     "name": "stdout",
     "output_type": "stream",
     "text": [
      "False\n"
     ]
    }
   ],
   "source": [
    "# Null 값 제거 / 확인\n",
    "naver_df = naver_df.dropna(how='any') # Null 값이 존재하는 행 제거\n",
    "print(naver_df.isnull().values.any()) # Null 값이 존재하는지 확인"
   ]
  },
  {
   "cell_type": "code",
   "execution_count": 4,
   "metadata": {},
   "outputs": [
    {
     "name": "stdout",
     "output_type": "stream",
     "text": [
      "149995\n"
     ]
    }
   ],
   "source": [
    "print(len(naver_df))"
   ]
  },
  {
   "cell_type": "code",
   "execution_count": 5,
   "metadata": {},
   "outputs": [],
   "source": [
    "# 최종적으로 전처리된 텍스트를 'naver_review.txt'에 저장 (문장 \\n 구분)\n",
    "with open('./data/naver_review.txt', 'w', encoding='utf8') as f:\n",
    "    f.write('\\n'.join(naver_df['document']))\n",
    "f.close() "
   ]
  },
  {
   "cell_type": "code",
   "execution_count": 6,
   "metadata": {
    "scrolled": true
   },
   "outputs": [
    {
     "name": "stderr",
     "output_type": "stream",
     "text": [
      "sentencepiece_trainer.cc(177) LOG(INFO) Running command: --input=./data/naver_review.txt --model_prefix=naver --vocab_size=5000 --model_type=bpe --max_sentence_length=9999\n",
      "sentencepiece_trainer.cc(77) LOG(INFO) Starts training with : \n",
      "trainer_spec {\n",
      "  input: ./data/naver_review.txt\n",
      "  input_format: \n",
      "  model_prefix: naver\n",
      "  model_type: BPE\n",
      "  vocab_size: 5000\n",
      "  self_test_sample_size: 0\n",
      "  character_coverage: 0.9995\n",
      "  input_sentence_size: 0\n",
      "  shuffle_input_sentence: 1\n",
      "  seed_sentencepiece_size: 1000000\n",
      "  shrinking_factor: 0.75\n",
      "  max_sentence_length: 9999\n",
      "  num_threads: 16\n",
      "  num_sub_iterations: 2\n",
      "  max_sentencepiece_length: 16\n",
      "  split_by_unicode_script: 1\n",
      "  split_by_number: 1\n",
      "  split_by_whitespace: 1\n",
      "  split_digits: 0\n",
      "  pretokenization_delimiter: \n",
      "  treat_whitespace_as_suffix: 0\n",
      "  allow_whitespace_only_pieces: 0\n",
      "  required_chars: \n",
      "  byte_fallback: 0\n",
      "  vocabulary_output_piece_score: 1\n",
      "  train_extremely_large_corpus: 0\n",
      "  hard_vocab_limit: 1\n",
      "  use_all_vocab: 0\n",
      "  unk_id: 0\n",
      "  bos_id: 1\n",
      "  eos_id: 2\n",
      "  pad_id: -1\n",
      "  unk_piece: <unk>\n",
      "  bos_piece: <s>\n",
      "  eos_piece: </s>\n",
      "  pad_piece: <pad>\n",
      "  unk_surface:  ⁇ \n",
      "  enable_differential_privacy: 0\n",
      "  differential_privacy_noise_level: 0\n",
      "  differential_privacy_clipping_threshold: 0\n",
      "}\n",
      "normalizer_spec {\n",
      "  name: nmt_nfkc\n",
      "  add_dummy_prefix: 1\n",
      "  remove_extra_whitespaces: 1\n",
      "  escape_whitespaces: 1\n",
      "  normalization_rule_tsv: \n",
      "}\n",
      "denormalizer_spec {}\n",
      "trainer_interface.cc(351) LOG(INFO) SentenceIterator is not specified. Using MultiFileSentenceIterator.\n",
      "trainer_interface.cc(183) LOG(INFO) Loading corpus: ./data/naver_review.txt\n",
      "trainer_interface.cc(407) LOG(INFO) Loaded all 149995 sentences\n",
      "trainer_interface.cc(423) LOG(INFO) Adding meta_piece: <unk>\n",
      "trainer_interface.cc(423) LOG(INFO) Adding meta_piece: <s>\n",
      "trainer_interface.cc(423) LOG(INFO) Adding meta_piece: </s>\n",
      "trainer_interface.cc(428) LOG(INFO) Normalizing sentences...\n",
      "trainer_interface.cc(537) LOG(INFO) all chars count=5430559\n",
      "trainer_interface.cc(548) LOG(INFO) Done: 99.9501% characters are covered.\n",
      "trainer_interface.cc(558) LOG(INFO) Alphabet size=1712\n",
      "trainer_interface.cc(559) LOG(INFO) Final character coverage=0.999501\n",
      "trainer_interface.cc(591) LOG(INFO) Done! preprocessed 149995 sentences.\n",
      "trainer_interface.cc(597) LOG(INFO) Tokenizing input sentences with whitespace: 149995\n",
      "trainer_interface.cc(608) LOG(INFO) Done! 357580\n",
      "bpe_model_trainer.cc(159) LOG(INFO) Updating active symbols. max_freq=109876 min_freq=87\n",
      "bpe_model_trainer.cc(268) LOG(INFO) Added: freq=11411 size=20 all=110792 active=10480 piece=▁없\n",
      "bpe_model_trainer.cc(268) LOG(INFO) Added: freq=8965 size=40 all=115302 active=14990 piece=▁1\n",
      "bpe_model_trainer.cc(268) LOG(INFO) Added: freq=6288 size=60 all=118868 active=18556 piece=▁생\n",
      "bpe_model_trainer.cc(268) LOG(INFO) Added: freq=5310 size=80 all=123078 active=22766 piece=▁배\n",
      "bpe_model_trainer.cc(268) LOG(INFO) Added: freq=4253 size=100 all=126624 active=26312 piece=▁볼\n",
      "bpe_model_trainer.cc(159) LOG(INFO) Updating active symbols. max_freq=4247 min_freq=73\n",
      "bpe_model_trainer.cc(268) LOG(INFO) Added: freq=3669 size=120 all=129875 active=9498 piece=▁중\n",
      "bpe_model_trainer.cc(268) LOG(INFO) Added: freq=3315 size=140 all=132169 active=11792 piece=▁끝\n",
      "bpe_model_trainer.cc(268) LOG(INFO) Added: freq=2868 size=160 all=134628 active=14251 piece=,,\n",
      "bpe_model_trainer.cc(268) LOG(INFO) Added: freq=2673 size=180 all=137115 active=16738 piece=으면\n",
      "bpe_model_trainer.cc(268) LOG(INFO) Added: freq=2405 size=200 all=139734 active=19357 piece=▁이건\n",
      "bpe_model_trainer.cc(159) LOG(INFO) Updating active symbols. max_freq=2400 min_freq=65\n",
      "bpe_model_trainer.cc(268) LOG(INFO) Added: freq=2231 size=220 all=141581 active=8777 piece=▁성\n",
      "bpe_model_trainer.cc(268) LOG(INFO) Added: freq=2074 size=240 all=144640 active=11836 piece=▁현\n",
      "bpe_model_trainer.cc(268) LOG(INFO) Added: freq=1937 size=260 all=147094 active=14290 piece=▁세\n",
      "bpe_model_trainer.cc(268) LOG(INFO) Added: freq=1811 size=280 all=150079 active=17275 piece=▁두\n",
      "bpe_model_trainer.cc(268) LOG(INFO) Added: freq=1692 size=300 all=151675 active=18871 piece=▁괜찮\n",
      "bpe_model_trainer.cc(159) LOG(INFO) Updating active symbols. max_freq=1686 min_freq=58\n",
      "bpe_model_trainer.cc(268) LOG(INFO) Added: freq=1576 size=320 all=153642 active=9514 piece=▁발\n",
      "bpe_model_trainer.cc(268) LOG(INFO) Added: freq=1449 size=340 all=155559 active=11431 piece=필요\n",
      "bpe_model_trainer.cc(268) LOG(INFO) Added: freq=1399 size=360 all=157550 active=13422 piece=▁무슨\n",
      "bpe_model_trainer.cc(268) LOG(INFO) Added: freq=1350 size=380 all=159702 active=15574 piece=하기\n",
      "bpe_model_trainer.cc(268) LOG(INFO) Added: freq=1268 size=400 all=161743 active=17615 piece=니까\n",
      "bpe_model_trainer.cc(159) LOG(INFO) Updating active symbols. max_freq=1267 min_freq=54\n",
      "bpe_model_trainer.cc(268) LOG(INFO) Added: freq=1230 size=420 all=164084 active=10270 piece=▁리\n",
      "bpe_model_trainer.cc(268) LOG(INFO) Added: freq=1182 size=440 all=166085 active=12271 piece=▁드\n",
      "bpe_model_trainer.cc(268) LOG(INFO) Added: freq=1112 size=460 all=167919 active=14105 piece=▁몇\n",
      "bpe_model_trainer.cc(268) LOG(INFO) Added: freq=1081 size=480 all=169353 active=15539 piece=▁한번\n",
      "bpe_model_trainer.cc(268) LOG(INFO) Added: freq=1028 size=500 all=171274 active=17460 piece=다니\n",
      "bpe_model_trainer.cc(159) LOG(INFO) Updating active symbols. max_freq=1027 min_freq=49\n",
      "bpe_model_trainer.cc(268) LOG(INFO) Added: freq=984 size=520 all=173113 active=10201 piece=▁언\n",
      "bpe_model_trainer.cc(268) LOG(INFO) Added: freq=936 size=540 all=174551 active=11639 piece=▁경\n",
      "bpe_model_trainer.cc(268) LOG(INFO) Added: freq=912 size=560 all=176485 active=13573 piece=▁긴장\n",
      "bpe_model_trainer.cc(268) LOG(INFO) Added: freq=882 size=580 all=178397 active=15485 piece=▁크\n",
      "bpe_model_trainer.cc(268) LOG(INFO) Added: freq=857 size=600 all=180563 active=17651 piece=▁엉\n",
      "bpe_model_trainer.cc(159) LOG(INFO) Updating active symbols. max_freq=857 min_freq=46\n",
      "bpe_model_trainer.cc(268) LOG(INFO) Added: freq=834 size=620 all=182633 active=11083 piece=수가\n",
      "bpe_model_trainer.cc(268) LOG(INFO) Added: freq=804 size=640 all=184895 active=13345 piece=봤는데\n",
      "bpe_model_trainer.cc(268) LOG(INFO) Added: freq=779 size=660 all=186827 active=15277 piece=전에\n",
      "bpe_model_trainer.cc(268) LOG(INFO) Added: freq=759 size=680 all=188337 active=16787 piece=어도\n",
      "bpe_model_trainer.cc(268) LOG(INFO) Added: freq=738 size=700 all=190287 active=18737 piece=대체\n",
      "bpe_model_trainer.cc(159) LOG(INFO) Updating active symbols. max_freq=737 min_freq=43\n",
      "bpe_model_trainer.cc(268) LOG(INFO) Added: freq=714 size=720 all=191714 active=10899 piece=▁내용도\n",
      "bpe_model_trainer.cc(268) LOG(INFO) Added: freq=690 size=740 all=193161 active=12346 piece=▁날\n",
      "bpe_model_trainer.cc(268) LOG(INFO) Added: freq=666 size=760 all=194388 active=13573 piece=진다\n",
      "bpe_model_trainer.cc(268) LOG(INFO) Added: freq=656 size=780 all=195627 active=14812 piece=▁복\n",
      "bpe_model_trainer.cc(268) LOG(INFO) Added: freq=639 size=800 all=197146 active=16331 piece=▁아직도\n",
      "bpe_model_trainer.cc(159) LOG(INFO) Updating active symbols. max_freq=638 min_freq=40\n",
      "bpe_model_trainer.cc(268) LOG(INFO) Added: freq=624 size=820 all=198502 active=11196 piece=하는데\n",
      "bpe_model_trainer.cc(268) LOG(INFO) Added: freq=611 size=840 all=199482 active=12176 piece=▁장난\n",
      "bpe_model_trainer.cc(268) LOG(INFO) Added: freq=601 size=860 all=201183 active=13877 piece=▁어린\n",
      "bpe_model_trainer.cc(268) LOG(INFO) Added: freq=585 size=880 all=202021 active=14715 piece=▁시청\n",
      "bpe_model_trainer.cc(268) LOG(INFO) Added: freq=568 size=900 all=203278 active=15972 piece=▁빨\n",
      "bpe_model_trainer.cc(159) LOG(INFO) Updating active symbols. max_freq=568 min_freq=39\n",
      "bpe_model_trainer.cc(268) LOG(INFO) Added: freq=558 size=920 all=204468 active=11311 piece=▁소름\n",
      "bpe_model_trainer.cc(268) LOG(INFO) Added: freq=548 size=940 all=205331 active=12174 piece=▁유쾌\n",
      "bpe_model_trainer.cc(268) LOG(INFO) Added: freq=536 size=960 all=206436 active=13279 piece=▁입\n",
      "bpe_model_trainer.cc(268) LOG(INFO) Added: freq=525 size=980 all=207504 active=14347 piece=텐데\n",
      "bpe_model_trainer.cc(268) LOG(INFO) Added: freq=516 size=1000 all=208633 active=15476 piece=▁어���\n",
      "bpe_model_trainer.cc(159) LOG(INFO) Updating active symbols. max_freq=515 min_freq=37\n",
      "bpe_model_trainer.cc(268) LOG(INFO) Added: freq=507 size=1020 all=210312 active=12104 piece=그래\n",
      "bpe_model_trainer.cc(268) LOG(INFO) Added: freq=498 size=1040 all=211581 active=13373 piece=레이\n",
      "bpe_model_trainer.cc(268) LOG(INFO) Added: freq=483 size=1060 all=212628 active=14420 piece=려는\n",
      "bpe_model_trainer.cc(268) LOG(INFO) Added: freq=472 size=1080 all=214086 active=15878 piece=들과\n",
      "bpe_model_trainer.cc(268) LOG(INFO) Added: freq=462 size=1100 all=215519 active=17311 piece=▁한국영화\n",
      "bpe_model_trainer.cc(159) LOG(INFO) Updating active symbols. max_freq=461 min_freq=35\n",
      "bpe_model_trainer.cc(268) LOG(INFO) Added: freq=449 size=1120 all=216501 active=11700 piece=웠다\n",
      "bpe_model_trainer.cc(268) LOG(INFO) Added: freq=440 size=1140 all=217655 active=12854 piece=▁위해\n",
      "bpe_model_trainer.cc(268) LOG(INFO) Added: freq=430 size=1160 all=218595 active=13794 piece=린다\n",
      "bpe_model_trainer.cc(268) LOG(INFO) Added: freq=422 size=1180 all=219799 active=14998 piece=▁끌\n",
      "bpe_model_trainer.cc(268) LOG(INFO) Added: freq=414 size=1200 all=221403 active=16602 piece=▁이쁘\n",
      "bpe_model_trainer.cc(159) LOG(INFO) Updating active symbols. max_freq=412 min_freq=34\n",
      "bpe_model_trainer.cc(268) LOG(INFO) Added: freq=403 size=1220 all=222697 active=12327 piece=▁사람들\n",
      "bpe_model_trainer.cc(268) LOG(INFO) Added: freq=396 size=1240 all=224165 active=13795 piece=▁없었다\n",
      "bpe_model_trainer.cc(268) LOG(INFO) Added: freq=389 size=1260 all=225297 active=14927 piece=겠지\n",
      "bpe_model_trainer.cc(268) LOG(INFO) Added: freq=381 size=1280 all=226321 active=15951 piece=시절\n",
      "bpe_model_trainer.cc(268) LOG(INFO) Added: freq=377 size=1300 all=227561 active=17191 piece=▁보여주는\n",
      "bpe_model_trainer.cc(159) LOG(INFO) Updating active symbols. max_freq=377 min_freq=32\n",
      "bpe_model_trainer.cc(268) LOG(INFO) Added: freq=369 size=1320 all=228794 active=12590 piece=으면서\n",
      "bpe_model_trainer.cc(268) LOG(INFO) Added: freq=361 size=1340 all=230059 active=13855 piece=머니\n",
      "bpe_model_trainer.cc(268) LOG(INFO) Added: freq=356 size=1360 all=231003 active=14799 piece=땜에\n",
      "bpe_model_trainer.cc(268) LOG(INFO) Added: freq=352 size=1380 all=232315 active=16111 piece=▁멍\n",
      "bpe_model_trainer.cc(268) LOG(INFO) Added: freq=347 size=1400 all=233344 active=17140 piece=▁배우들이\n",
      "bpe_model_trainer.cc(159) LOG(INFO) Updating active symbols. max_freq=346 min_freq=31\n",
      "bpe_model_trainer.cc(268) LOG(INFO) Added: freq=343 size=1420 all=234326 active=12636 piece=▁다운\n",
      "bpe_model_trainer.cc(268) LOG(INFO) Added: freq=335 size=1440 all=235230 active=13540 piece=나오는\n",
      "bpe_model_trainer.cc(268) LOG(INFO) Added: freq=329 size=1460 all=236238 active=14548 piece=여자\n",
      "bpe_model_trainer.cc(268) LOG(INFO) Added: freq=323 size=1480 all=237657 active=15967 piece=▁있지만\n",
      "bpe_model_trainer.cc(268) LOG(INFO) Added: freq=318 size=1500 all=238842 active=17152 piece=▁봤지만\n",
      "bpe_model_trainer.cc(159) LOG(INFO) Updating active symbols. max_freq=318 min_freq=30\n",
      "bpe_model_trainer.cc(268) LOG(INFO) Added: freq=312 size=1520 all=239965 active=13061 piece=▁멜로\n",
      "bpe_model_trainer.cc(268) LOG(INFO) Added: freq=307 size=1540 all=240908 active=14004 piece=▁좀비\n",
      "bpe_model_trainer.cc(268) LOG(INFO) Added: freq=303 size=1560 all=241792 active=14888 piece=▁원작을\n",
      "bpe_model_trainer.cc(268) LOG(INFO) Added: freq=298 size=1580 all=242737 active=15833 piece=▁감독님\n",
      "bpe_model_trainer.cc(268) LOG(INFO) Added: freq=293 size=1600 all=243489 active=16585 piece=스럽고\n",
      "bpe_model_trainer.cc(159) LOG(INFO) Updating active symbols. max_freq=292 min_freq=29\n",
      "bpe_model_trainer.cc(268) LOG(INFO) Added: freq=289 size=1620 all=244401 active=13008 piece=와서\n",
      "bpe_model_trainer.cc(268) LOG(INFO) Added: freq=285 size=1640 all=245197 active=13804 piece=현실\n",
      "bpe_model_trainer.cc(268) LOG(INFO) Added: freq=282 size=1660 all=246221 active=14828 piece=보다가\n",
      "bpe_model_trainer.cc(268) LOG(INFO) Added: freq=278 size=1680 all=247340 active=15947 piece=립니다\n",
      "bpe_model_trainer.cc(268) LOG(INFO) Added: freq=272 size=1700 all=248270 active=16877 piece=▁점점\n",
      "bpe_model_trainer.cc(159) LOG(INFO) Updating active symbols. max_freq=271 min_freq=28\n",
      "bpe_model_trainer.cc(268) LOG(INFO) Added: freq=267 size=1720 all=249433 active=13560 piece=▁tv\n",
      "bpe_model_trainer.cc(268) LOG(INFO) Added: freq=264 size=1740 all=250459 active=14586 piece=히려\n",
      "bpe_model_trainer.cc(268) LOG(INFO) Added: freq=261 size=1760 all=251337 active=15464 piece=▁섬\n",
      "bpe_model_trainer.cc(268) LOG(INFO) Added: freq=259 size=1780 all=252389 active=16516 piece=▁전개가\n",
      "bpe_model_trainer.cc(268) LOG(INFO) Added: freq=256 size=1800 all=253241 active=17368 piece=▁재밌었다\n",
      "bpe_model_trainer.cc(159) LOG(INFO) Updating active symbols. max_freq=255 min_freq=27\n",
      "bpe_model_trainer.cc(268) LOG(INFO) Added: freq=253 size=1820 all=253999 active=13404 piece=▁과거\n",
      "bpe_model_trainer.cc(268) LOG(INFO) Added: freq=249 size=1840 all=254884 active=14289 piece=▁안나\n",
      "bpe_model_trainer.cc(268) LOG(INFO) Added: freq=245 size=1860 all=256148 active=15553 piece=▁있음\n",
      "bpe_model_trainer.cc(268) LOG(INFO) Added: freq=241 size=1880 all=257325 active=16730 piece=났다\n",
      "bpe_model_trainer.cc(268) LOG(INFO) Added: freq=239 size=1900 all=258104 active=17509 piece=였습니다\n",
      "bpe_model_trainer.cc(159) LOG(INFO) Updating active symbols. max_freq=238 min_freq=26\n",
      "bpe_model_trainer.cc(268) LOG(INFO) Added: freq=236 size=1920 all=258937 active=13674 piece=▁내인생\n",
      "bpe_model_trainer.cc(268) LOG(INFO) Added: freq=232 size=1940 all=259725 active=14462 piece=▁영웅\n",
      "bpe_model_trainer.cc(268) LOG(INFO) Added: freq=230 size=1960 all=260653 active=15390 piece=▁학교\n",
      "bpe_model_trainer.cc(268) LOG(INFO) Added: freq=228 size=1980 all=261622 active=16359 piece=▁기대하고\n",
      "bpe_model_trainer.cc(268) LOG(INFO) Added: freq=225 size=2000 all=262306 active=17043 piece=평가\n",
      "bpe_model_trainer.cc(159) LOG(INFO) Updating active symbols. max_freq=225 min_freq=26\n",
      "bpe_model_trainer.cc(268) LOG(INFO) Added: freq=223 size=2020 all=263239 active=13973 piece=예산\n",
      "bpe_model_trainer.cc(268) LOG(INFO) Added: freq=220 size=2040 all=263997 active=14731 piece=▁중반\n",
      "bpe_model_trainer.cc(268) LOG(INFO) Added: freq=217 size=2060 all=264710 active=15444 piece=▁안보\n",
      "bpe_model_trainer.cc(268) LOG(INFO) Added: freq=214 size=2080 all=265546 active=16280 piece=▁놀라\n",
      "bpe_model_trainer.cc(268) LOG(INFO) Added: freq=212 size=2100 all=266259 active=16993 piece=한다는\n",
      "bpe_model_trainer.cc(159) LOG(INFO) Updating active symbols. max_freq=212 min_freq=25\n",
      "bpe_model_trainer.cc(268) LOG(INFO) Added: freq=209 size=2120 all=267187 active=14121 piece=▁못보\n",
      "bpe_model_trainer.cc(268) LOG(INFO) Added: freq=205 size=2140 all=267850 active=14784 piece=▁줘\n",
      "bpe_model_trainer.cc(268) LOG(INFO) Added: freq=204 size=2160 all=268922 active=15856 piece=▁아오\n",
      "bpe_model_trainer.cc(268) LOG(INFO) Added: freq=202 size=2180 all=269623 active=16557 piece=▁합\n",
      "bpe_model_trainer.cc(268) LOG(INFO) Added: freq=200 size=2200 all=270550 active=17484 piece=▁진부한\n",
      "bpe_model_trainer.cc(159) LOG(INFO) Updating active symbols. max_freq=200 min_freq=24\n",
      "bpe_model_trainer.cc(268) LOG(INFO) Added: freq=198 size=2220 all=271451 active=14419 piece=▁경찰\n",
      "bpe_model_trainer.cc(268) LOG(INFO) Added: freq=196 size=2240 all=272071 active=15039 piece=▁안나오\n",
      "bpe_model_trainer.cc(268) LOG(INFO) Added: freq=194 size=2260 all=272594 active=15562 piece=심히\n",
      "bpe_model_trainer.cc(268) LOG(INFO) Added: freq=193 size=2280 all=273637 active=16605 piece=▁잘생\n",
      "bpe_model_trainer.cc(268) LOG(INFO) Added: freq=190 size=2300 all=274414 active=17382 piece=마저\n",
      "bpe_model_trainer.cc(159) LOG(INFO) Updating active symbols. max_freq=190 min_freq=24\n",
      "bpe_model_trainer.cc(268) LOG(INFO) Added: freq=189 size=2320 all=275332 active=14519 piece=▁이젠\n",
      "bpe_model_trainer.cc(268) LOG(INFO) Added: freq=187 size=2340 all=276373 active=15560 piece=▁나온다\n",
      "bpe_model_trainer.cc(268) LOG(INFO) Added: freq=185 size=2360 all=277131 active=16318 piece=▁글쎄\n",
      "bpe_model_trainer.cc(268) LOG(INFO) Added: freq=183 size=2380 all=278102 active=17289 piece=아아\n",
      "bpe_model_trainer.cc(268) LOG(INFO) Added: freq=182 size=2400 all=279048 active=18235 piece=▁감사합니다\n",
      "bpe_model_trainer.cc(159) LOG(INFO) Updating active symbols. max_freq=181 min_freq=23\n",
      "bpe_model_trainer.cc(268) LOG(INFO) Added: freq=180 size=2420 all=279983 active=14886 piece=▁감정이\n",
      "bpe_model_trainer.cc(268) LOG(INFO) Added: freq=178 size=2440 all=280711 active=15614 piece=터리\n",
      "bpe_model_trainer.cc(268) LOG(INFO) Added: freq=177 size=2460 all=281446 active=16349 piece=▁드는\n",
      "bpe_model_trainer.cc(268) LOG(INFO) Added: freq=175 size=2480 all=281800 active=16703 piece=구려\n",
      "bpe_model_trainer.cc(268) LOG(INFO) Added: freq=173 size=2500 all=282620 active=17523 piece=▁엑\n",
      "bpe_model_trainer.cc(159) LOG(INFO) Updating active symbols. max_freq=173 min_freq=23\n",
      "bpe_model_trainer.cc(268) LOG(INFO) Added: freq=172 size=2520 all=283268 active=14767 piece=▁이하\n",
      "bpe_model_trainer.cc(268) LOG(INFO) Added: freq=171 size=2540 all=283862 active=15361 piece=▁볼때마다\n",
      "bpe_model_trainer.cc(268) LOG(INFO) Added: freq=169 size=2560 all=284399 active=15898 piece=결말\n",
      "bpe_model_trainer.cc(268) LOG(INFO) Added: freq=168 size=2580 all=285144 active=16643 piece=▁이기\n",
      "bpe_model_trainer.cc(268) LOG(INFO) Added: freq=166 size=2600 all=286000 active=17499 piece=▁연예\n",
      "bpe_model_trainer.cc(159) LOG(INFO) Updating active symbols. max_freq=166 min_freq=22\n",
      "bpe_model_trainer.cc(268) LOG(INFO) Added: freq=165 size=2620 all=286724 active=15010 piece=▁통해\n",
      "bpe_model_trainer.cc(268) LOG(INFO) Added: freq=163 size=2640 all=287330 active=15616 piece=버렸다\n",
      "bpe_model_trainer.cc(268) LOG(INFO) Added: freq=161 size=2660 all=288058 active=16344 piece=▁십\n",
      "bpe_model_trainer.cc(268) LOG(INFO) Added: freq=160 size=2680 all=288763 active=17049 piece=까진\n",
      "bpe_model_trainer.cc(268) LOG(INFO) Added: freq=159 size=2700 all=289519 active=17805 piece=구하고\n",
      "bpe_model_trainer.cc(159) LOG(INFO) Updating active symbols. max_freq=159 min_freq=22\n",
      "bpe_model_trainer.cc(268) LOG(INFO) Added: freq=158 size=2720 all=290415 active=15352 piece=▁보시길\n",
      "bpe_model_trainer.cc(268) LOG(INFO) Added: freq=156 size=2740 all=290920 active=15857 piece=불가\n",
      "bpe_model_trainer.cc(268) LOG(INFO) Added: freq=155 size=2760 all=291696 active=16633 piece=▁영환\n",
      "bpe_model_trainer.cc(268) LOG(INFO) Added: freq=153 size=2780 all=292726 active=17663 piece=▁고생\n",
      "bpe_model_trainer.cc(268) LOG(INFO) Added: freq=152 size=2800 all=293426 active=18363 piece=▁떠나\n",
      "bpe_model_trainer.cc(159) LOG(INFO) Updating active symbols. max_freq=152 min_freq=21\n",
      "bpe_model_trainer.cc(268) LOG(INFO) Added: freq=151 size=2820 all=293967 active=15181 piece=할까\n",
      "bpe_model_trainer.cc(268) LOG(INFO) Added: freq=150 size=2840 all=294689 active=15903 piece=▁��게\n",
      "bpe_model_trainer.cc(268) LOG(INFO) Added: freq=149 size=2860 all=295567 active=16781 piece=아까운\n",
      "bpe_model_trainer.cc(268) LOG(INFO) Added: freq=148 size=2880 all=296224 active=17438 piece=▁신경\n",
      "bpe_model_trainer.cc(268) LOG(INFO) Added: freq=147 size=2900 all=296869 active=18083 piece=▁가볍게\n",
      "bpe_model_trainer.cc(159) LOG(INFO) Updating active symbols. max_freq=147 min_freq=21\n",
      "bpe_model_trainer.cc(268) LOG(INFO) Added: freq=146 size=2920 all=297328 active=15293 piece=▁소재로\n",
      "bpe_model_trainer.cc(268) LOG(INFO) Added: freq=145 size=2940 all=298044 active=16009 piece=▁의심\n",
      "bpe_model_trainer.cc(268) LOG(INFO) Added: freq=144 size=2960 all=298952 active=16917 piece=▁없나\n",
      "bpe_model_trainer.cc(268) LOG(INFO) Added: freq=142 size=2980 all=299459 active=17424 piece=밋밋\n",
      "bpe_model_trainer.cc(268) LOG(INFO) Added: freq=141 size=3000 all=300308 active=18273 piece=▁ᄌ\n",
      "bpe_model_trainer.cc(159) LOG(INFO) Updating active symbols. max_freq=141 min_freq=20\n",
      "bpe_model_trainer.cc(268) LOG(INFO) Added: freq=140 size=3020 all=301097 active=15771 piece=마스\n",
      "bpe_model_trainer.cc(268) LOG(INFO) Added: freq=139 size=3040 all=301620 active=16294 piece=▁싶어\n",
      "bpe_model_trainer.cc(268) LOG(INFO) Added: freq=138 size=3060 all=302304 active=16978 piece=▁하이\n",
      "bpe_model_trainer.cc(268) LOG(INFO) Added: freq=137 size=3080 all=302912 active=17586 piece=하시는\n",
      "bpe_model_trainer.cc(268) LOG(INFO) Added: freq=136 size=3100 all=303401 active=18075 piece=▁지루할\n",
      "bpe_model_trainer.cc(159) LOG(INFO) Updating active symbols. max_freq=135 min_freq=20\n",
      "bpe_model_trainer.cc(268) LOG(INFO) Added: freq=134 size=3120 all=304044 active=15797 piece=▁끔\n",
      "bpe_model_trainer.cc(268) LOG(INFO) Added: freq=134 size=3140 all=304762 active=16515 piece=▁정신병\n",
      "bpe_model_trainer.cc(268) LOG(INFO) Added: freq=133 size=3160 all=305518 active=17271 piece=▁좀더\n",
      "bpe_model_trainer.cc(268) LOG(INFO) Added: freq=132 size=3180 all=306236 active=17989 piece=▁남자가\n",
      "bpe_model_trainer.cc(268) LOG(INFO) Added: freq=130 size=3200 all=306753 active=18506 piece=사의\n",
      "bpe_model_trainer.cc(159) LOG(INFO) Updating active symbols. max_freq=130 min_freq=19\n",
      "bpe_model_trainer.cc(268) LOG(INFO) Added: freq=129 size=3220 all=307299 active=15805 piece=▁체\n",
      "bpe_model_trainer.cc(268) LOG(INFO) Added: freq=129 size=3240 all=308075 active=16581 piece=▁시대를\n",
      "bpe_model_trainer.cc(268) LOG(INFO) Added: freq=128 size=3260 all=308589 active=17095 piece=▁이거보고\n",
      "bpe_model_trainer.cc(268) LOG(INFO) Added: freq=127 size=3280 all=309021 active=17527 piece=▁할말이\n",
      "trainer_interface.cc(686) LOG(INFO) Saving model: naver.model\n",
      "trainer_interface.cc(698) LOG(INFO) Saving vocabs: naver.vocab\n"
     ]
    }
   ],
   "source": [
    "# 학습하기: 2개 파일 생성 .vocab (subword), .model\n",
    "# byte-pair-encoding\n",
    "spm.SentencePieceTrainer.Train('--input=./data/naver_review.txt --model_prefix=naver --vocab_size=5000 --model_type=bpe --max_sentence_length=9999')"
   ]
  },
  {
   "cell_type": "code",
   "execution_count": 7,
   "metadata": {},
   "outputs": [
    {
     "data": {
      "text/html": [
       "<div>\n",
       "<style scoped>\n",
       "    .dataframe tbody tr th:only-of-type {\n",
       "        vertical-align: middle;\n",
       "    }\n",
       "\n",
       "    .dataframe tbody tr th {\n",
       "        vertical-align: top;\n",
       "    }\n",
       "\n",
       "    .dataframe thead th {\n",
       "        text-align: right;\n",
       "    }\n",
       "</style>\n",
       "<table border=\"1\" class=\"dataframe\">\n",
       "  <thead>\n",
       "    <tr style=\"text-align: right;\">\n",
       "      <th></th>\n",
       "      <th>0</th>\n",
       "      <th>1</th>\n",
       "    </tr>\n",
       "  </thead>\n",
       "  <tbody>\n",
       "    <tr>\n",
       "      <th>0</th>\n",
       "      <td>&lt;unk&gt;</td>\n",
       "      <td>0</td>\n",
       "    </tr>\n",
       "    <tr>\n",
       "      <th>1</th>\n",
       "      <td>&lt;s&gt;</td>\n",
       "      <td>0</td>\n",
       "    </tr>\n",
       "    <tr>\n",
       "      <th>2</th>\n",
       "      <td>&lt;/s&gt;</td>\n",
       "      <td>0</td>\n",
       "    </tr>\n",
       "    <tr>\n",
       "      <th>3</th>\n",
       "      <td>..</td>\n",
       "      <td>0</td>\n",
       "    </tr>\n",
       "    <tr>\n",
       "      <th>4</th>\n",
       "      <td>영화</td>\n",
       "      <td>-1</td>\n",
       "    </tr>\n",
       "    <tr>\n",
       "      <th>5</th>\n",
       "      <td>▁영화</td>\n",
       "      <td>-2</td>\n",
       "    </tr>\n",
       "    <tr>\n",
       "      <th>6</th>\n",
       "      <td>▁이</td>\n",
       "      <td>-3</td>\n",
       "    </tr>\n",
       "    <tr>\n",
       "      <th>7</th>\n",
       "      <td>▁아</td>\n",
       "      <td>-4</td>\n",
       "    </tr>\n",
       "    <tr>\n",
       "      <th>8</th>\n",
       "      <td>...</td>\n",
       "      <td>-5</td>\n",
       "    </tr>\n",
       "    <tr>\n",
       "      <th>9</th>\n",
       "      <td>ᄏᄏ</td>\n",
       "      <td>-6</td>\n",
       "    </tr>\n",
       "  </tbody>\n",
       "</table>\n",
       "</div>"
      ],
      "text/plain": [
       "       0  1\n",
       "0  <unk>  0\n",
       "1    <s>  0\n",
       "2   </s>  0\n",
       "3     ..  0\n",
       "4     영화 -1\n",
       "5    ▁영화 -2\n",
       "6     ▁이 -3\n",
       "7     ▁아 -4\n",
       "8    ... -5\n",
       "9     ᄏᄏ -6"
      ]
     },
     "execution_count": 7,
     "metadata": {},
     "output_type": "execute_result"
    }
   ],
   "source": [
    "# vocab 파일 확인해보기\n",
    "vocab_list = pd.read_csv('./data/naver.vocab', sep='\\t', header=None, quoting=csv.QUOTE_NONE)\n",
    "vocab_list[:10]"
   ]
  },
  {
   "cell_type": "code",
   "execution_count": 8,
   "metadata": {},
   "outputs": [
    {
     "data": {
      "text/html": [
       "<div>\n",
       "<style scoped>\n",
       "    .dataframe tbody tr th:only-of-type {\n",
       "        vertical-align: middle;\n",
       "    }\n",
       "\n",
       "    .dataframe tbody tr th {\n",
       "        vertical-align: top;\n",
       "    }\n",
       "\n",
       "    .dataframe thead th {\n",
       "        text-align: right;\n",
       "    }\n",
       "</style>\n",
       "<table border=\"1\" class=\"dataframe\">\n",
       "  <thead>\n",
       "    <tr style=\"text-align: right;\">\n",
       "      <th></th>\n",
       "      <th>0</th>\n",
       "      <th>1</th>\n",
       "    </tr>\n",
       "  </thead>\n",
       "  <tbody>\n",
       "    <tr>\n",
       "      <th>3640</th>\n",
       "      <td>테</td>\n",
       "      <td>-3637</td>\n",
       "    </tr>\n",
       "    <tr>\n",
       "      <th>3489</th>\n",
       "      <td>였</td>\n",
       "      <td>-3486</td>\n",
       "    </tr>\n",
       "    <tr>\n",
       "      <th>4178</th>\n",
       "      <td>퉁</td>\n",
       "      <td>-4175</td>\n",
       "    </tr>\n",
       "    <tr>\n",
       "      <th>1205</th>\n",
       "      <td>▁얼굴</td>\n",
       "      <td>-1202</td>\n",
       "    </tr>\n",
       "    <tr>\n",
       "      <th>1621</th>\n",
       "      <td>▁쳐</td>\n",
       "      <td>-1618</td>\n",
       "    </tr>\n",
       "    <tr>\n",
       "      <th>1938</th>\n",
       "      <td>.5</td>\n",
       "      <td>-1935</td>\n",
       "    </tr>\n",
       "    <tr>\n",
       "      <th>4040</th>\n",
       "      <td>싱</td>\n",
       "      <td>-4037</td>\n",
       "    </tr>\n",
       "    <tr>\n",
       "      <th>2716</th>\n",
       "      <td>▁막판</td>\n",
       "      <td>-2713</td>\n",
       "    </tr>\n",
       "    <tr>\n",
       "      <th>2272</th>\n",
       "      <td>재밌게</td>\n",
       "      <td>-2269</td>\n",
       "    </tr>\n",
       "    <tr>\n",
       "      <th>3681</th>\n",
       "      <td>릭</td>\n",
       "      <td>-3678</td>\n",
       "    </tr>\n",
       "  </tbody>\n",
       "</table>\n",
       "</div>"
      ],
      "text/plain": [
       "        0     1\n",
       "3640    테 -3637\n",
       "3489    였 -3486\n",
       "4178    퉁 -4175\n",
       "1205  ▁얼굴 -1202\n",
       "1621   ▁쳐 -1618\n",
       "1938   .5 -1935\n",
       "4040    싱 -4037\n",
       "2716  ▁막판 -2713\n",
       "2272  재밌게 -2269\n",
       "3681    릭 -3678"
      ]
     },
     "execution_count": 8,
     "metadata": {},
     "output_type": "execute_result"
    }
   ],
   "source": [
    "vocab_list.sample(10)"
   ]
  },
  {
   "cell_type": "code",
   "execution_count": 9,
   "metadata": {},
   "outputs": [
    {
     "data": {
      "text/plain": [
       "5000"
      ]
     },
     "execution_count": 9,
     "metadata": {},
     "output_type": "execute_result"
    }
   ],
   "source": [
    "len(vocab_list)"
   ]
  },
  {
   "cell_type": "code",
   "execution_count": 10,
   "metadata": {},
   "outputs": [
    {
     "data": {
      "text/plain": [
       "True"
      ]
     },
     "execution_count": 10,
     "metadata": {},
     "output_type": "execute_result"
    }
   ],
   "source": [
    "# 모델 로드\n",
    "sp = spm.SentencePieceProcessor()\n",
    "vocab_file = \"./data/naver.model\"\n",
    "sp.load(vocab_file)"
   ]
  },
  {
   "cell_type": "code",
   "execution_count": 11,
   "metadata": {},
   "outputs": [
    {
     "name": "stdout",
     "output_type": "stream",
     "text": [
      "아 정말 피곤하다\n",
      "['▁아', '▁정말', '▁피', '곤', '하다']\n",
      "[7, 43, 493, 3852, 79]\n",
      "\n",
      "오늘은 집에 가고 싶다 ㅋㅋㅋ\n",
      "['▁오늘', '은', '▁집', '에', '▁가', '고', '▁싶다', '▁ᄏᄏᄏ']\n",
      "[960, 3310, 467, 3301, 46, 3293, 763, 373]\n",
      "\n"
     ]
    }
   ],
   "source": [
    "# 모델을 통해 tokenizing\n",
    "lines = [\n",
    "  \"아 정말 피곤하다\",\n",
    "  \"오늘은 집에 가고 싶다 ㅋㅋㅋ\",\n",
    "]\n",
    "for line in lines:\n",
    "  print(line)\n",
    "  print(sp.encode_as_pieces(line)) # encoding token\n",
    "  print(sp.encode_as_ids(line)) # encoding idx\n",
    "  print()"
   ]
  },
  {
   "cell_type": "code",
   "execution_count": 12,
   "metadata": {},
   "outputs": [
    {
     "data": {
      "text/plain": [
       "5000"
      ]
     },
     "execution_count": 12,
     "metadata": {},
     "output_type": "execute_result"
    }
   ],
   "source": [
    "# 모델로 voca size 확인하기\n",
    "sp.GetPieceSize()"
   ]
  },
  {
   "cell_type": "code",
   "execution_count": 13,
   "metadata": {},
   "outputs": [
    {
     "data": {
      "text/plain": [
       "'▁아'"
      ]
     },
     "execution_count": 13,
     "metadata": {},
     "output_type": "execute_result"
    }
   ],
   "source": [
    "# id to subword\n",
    "sp.IdToPiece(7)"
   ]
  },
  {
   "cell_type": "code",
   "execution_count": 14,
   "metadata": {},
   "outputs": [
    {
     "data": {
      "text/plain": [
       "7"
      ]
     },
     "execution_count": 14,
     "metadata": {},
     "output_type": "execute_result"
    }
   ],
   "source": [
    "# subword to id\n",
    "sp.PieceToId('▁아')"
   ]
  },
  {
   "cell_type": "code",
   "execution_count": null,
   "metadata": {},
   "outputs": [],
   "source": []
  },
  {
   "cell_type": "code",
   "execution_count": 15,
   "metadata": {},
   "outputs": [
    {
     "data": {
      "text/plain": [
       "'아 정말 피곤하다'"
      ]
     },
     "execution_count": 15,
     "metadata": {},
     "output_type": "execute_result"
    }
   ],
   "source": [
    "# ids to subwords\n",
    "sp.DecodeIds([7, 43, 493, 3852, 79])"
   ]
  },
  {
   "cell_type": "code",
   "execution_count": 16,
   "metadata": {},
   "outputs": [
    {
     "data": {
      "text/plain": [
       "'오늘은 집에 가고 싶다 ᄏᄏᄏ'"
      ]
     },
     "execution_count": 16,
     "metadata": {},
     "output_type": "execute_result"
    }
   ],
   "source": [
    "# subwords to 원형\n",
    "sp.DecodePieces(['▁오늘', '은', '▁집', '에', '▁가', '고', '▁싶다', '▁ᄏᄏᄏ'])"
   ]
  },
  {
   "cell_type": "code",
   "execution_count": 17,
   "metadata": {},
   "outputs": [
    {
     "name": "stdout",
     "output_type": "stream",
     "text": [
      "['▁와우', '▁정말', '▁대단한', '▁영화입니다', '▁ᄒᄒ']\n",
      "[3274, 43, 1695, 820, 434]\n"
     ]
    }
   ],
   "source": [
    "# encode 메소드 중 out_type 인자 활용: subwords, ids로 변환\n",
    "print(sp.encode('와우 정말 대단한 영화입니다 ㅎㅎ', out_type=str))\n",
    "print(sp.encode('와우 정말 대단한 영화입니다 ㅎㅎ', out_type=int))"
   ]
  }
 ],
 "metadata": {
  "kernelspec": {
   "display_name": "Python 3 (ipykernel)",
   "language": "python",
   "name": "python3"
  },
  "language_info": {
   "codemirror_mode": {
    "name": "ipython",
    "version": 3
   },
   "file_extension": ".py",
   "mimetype": "text/x-python",
   "name": "python",
   "nbconvert_exporter": "python",
   "pygments_lexer": "ipython3",
   "version": "3.12.4"
  },
  "vscode": {
   "interpreter": {
    "hash": "305494ec69d5ad97a583cc76e8fd52e450123bc765c435a27726a289dbe2d5e0"
   }
  }
 },
 "nbformat": 4,
 "nbformat_minor": 4
}
