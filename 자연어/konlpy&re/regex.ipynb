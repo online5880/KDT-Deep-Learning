{
 "cells": [
  {
   "cell_type": "code",
   "execution_count": 144,
   "metadata": {},
   "outputs": [],
   "source": [
    "import re"
   ]
  },
  {
   "cell_type": "code",
   "execution_count": 145,
   "metadata": {},
   "outputs": [],
   "source": [
    "reg_text = '안녕, 나는 잎싹이야. 너도 잎싹이고, 재도 잎싹이야. 우리 모두 잎싹이다.'"
   ]
  },
  {
   "cell_type": "code",
   "execution_count": 146,
   "metadata": {},
   "outputs": [
    {
     "data": {
      "text/plain": [
       "'안녕, 나는 절대잎싹아님이야. 너도 절대잎싹아님이고, 재도 절대잎싹아님이야. 우리 모두 절대잎싹아님이다.'"
      ]
     },
     "execution_count": 146,
     "metadata": {},
     "output_type": "execute_result"
    }
   ],
   "source": [
    "reg_text.replace('잎싹','절대잎싹아님')"
   ]
  },
  {
   "cell_type": "code",
   "execution_count": 147,
   "metadata": {},
   "outputs": [],
   "source": [
    "reg_text = '안녕, 나는 잎1싹이야. 너도 잎4싹이고, 재도 잎123싹이야. 우리 모두 잎567싹이다.'"
   ]
  },
  {
   "cell_type": "code",
   "execution_count": 148,
   "metadata": {},
   "outputs": [
    {
     "data": {
      "text/plain": [
       "'안녕, 나는 잎싹이야. 너도 잎싹이고, 재도 잎싹이야. 우리 모두 잎싹이다.'"
      ]
     },
     "execution_count": 148,
     "metadata": {},
     "output_type": "execute_result"
    }
   ],
   "source": [
    "re.sub(\"[0-9]+\",\"\",reg_text)\n",
    "# 0-9 사이의 임임의 숫자로 바꾸겠다.\n",
    "# 정규식 뒤에 +가 붙으면 자릿수 제한이 없음"
   ]
  },
  {
   "cell_type": "code",
   "execution_count": 149,
   "metadata": {},
   "outputs": [],
   "source": [
    "id_text = '안녕하세요. 저는 ABC에요. 제 주민번호는 123456-1234567 이에요. 제 주소는 XX시 00구 123-45번지에요.'"
   ]
  },
  {
   "cell_type": "code",
   "execution_count": 150,
   "metadata": {},
   "outputs": [
    {
     "data": {
      "text/plain": [
       "'안녕하세요. 저는 ABC에요. 제 주민번호는 *******-******* 이에요. 제 주소는 XX시 00구 123-45번지에요.'"
      ]
     },
     "execution_count": 150,
     "metadata": {},
     "output_type": "execute_result"
    }
   ],
   "source": [
    "re.sub(r\"\\d{6}-\\d{7}\",r\"*******-*******\",id_text)"
   ]
  },
  {
   "cell_type": "code",
   "execution_count": 151,
   "metadata": {},
   "outputs": [],
   "source": [
    "eng_text = 'Squire Trelawney, Dr. Livesey, and the rest of these gentlemen having asked me to write down the whole particulars about Treasure Island,'"
   ]
  },
  {
   "cell_type": "code",
   "execution_count": 152,
   "metadata": {},
   "outputs": [
    {
     "name": "stdout",
     "output_type": "stream",
     "text": [
      "Squire Trelawney,\n",
      " Dr.\n",
      " Livesey,\n",
      " and the rest of these gentlemen having asked me to write down the whole particulars about Treasure Island,\n",
      "\n"
     ]
    }
   ],
   "source": [
    "print(re.sub(r\"[,.]\",lambda x: x.group(0)+'\\n',eng_text))"
   ]
  },
  {
   "cell_type": "code",
   "execution_count": 153,
   "metadata": {},
   "outputs": [
    {
     "name": "stdout",
     "output_type": "stream",
     "text": [
      "Squire Trelawney, \n",
      "Dr. Livesey, \n",
      "and the rest of these gentlemen having asked me to write down the whole particulars about Treasure Island,\n"
     ]
    }
   ],
   "source": [
    "print(re.sub(r\",.\",lambda x: x.group(0)+'\\n',eng_text))"
   ]
  },
  {
   "cell_type": "code",
   "execution_count": 154,
   "metadata": {},
   "outputs": [
    {
     "name": "stdout",
     "output_type": "stream",
     "text": [
      "Squire Trelawney,\n",
      " Dr. Livesey,\n",
      " and the rest of these gentlemen having asked me to write down the whole particulars about Treasure Island,\n",
      "\n"
     ]
    }
   ],
   "source": [
    "print(re.sub(r\"\\b(?<!Dr)\\s*[,.]\",lambda x: x.group(0)+'\\n',eng_text))"
   ]
  },
  {
   "cell_type": "code",
   "execution_count": 155,
   "metadata": {},
   "outputs": [],
   "source": [
    "id_text = '안녕하세요. 저는 ABC에요. 제 주민번호는 993456-1234567 이에요. 제 주소는 XX시 00구 123-45번지에요.'"
   ]
  },
  {
   "cell_type": "markdown",
   "metadata": {},
   "source": [
    "하이픈 뒤에 성별을 나타내는 숫자가 하나 있고, 그 뒤에 6자리 숫자가 연속해야 함"
   ]
  },
  {
   "cell_type": "code",
   "execution_count": 156,
   "metadata": {},
   "outputs": [
    {
     "data": {
      "text/plain": [
       "'안녕하세요. 저는 ABC에요. 제 주민번호는 993456-1****** 이에요. 제 주소는 XX시 00구 123-45번지에요.'"
      ]
     },
     "execution_count": 156,
     "metadata": {},
     "output_type": "execute_result"
    }
   ],
   "source": [
    "re.sub(r\"-[1-4]\\d{6}\",lambda x: x.group(0)[0:2]+\"******\",id_text)"
   ]
  },
  {
   "cell_type": "code",
   "execution_count": 157,
   "metadata": {},
   "outputs": [
    {
     "data": {
      "text/plain": [
       "'안녕하세요. 저는 ABC에요. 제 주민번호는 993456-1****** 이에요. 제 주소는 XX시 00구 123-45번지에요.'"
      ]
     },
     "execution_count": 157,
     "metadata": {},
     "output_type": "execute_result"
    }
   ],
   "source": [
    "re.sub(r\"(-[1-4])\\d{6}\", r\"\\1******\", id_text)"
   ]
  },
  {
   "cell_type": "code",
   "execution_count": 158,
   "metadata": {},
   "outputs": [
    {
     "name": "stdout",
     "output_type": "stream",
     "text": [
      "******************************. ****** ****************************** 123456-1234567****** ******************. ****** ****************** ****************** ******************.\n"
     ]
    }
   ],
   "source": [
    "id_text = \"안녕하세요. 제 주민번호는 123456-1234567 입니다. 제 이름은 홍길동 입니다.\"\n",
    "\n",
    "# 두 그룹을 각각 처리: 첫 번째 그룹은 숫자를 *******로 대체, 두 번째 그룹은 한글을 *로 대체\n",
    "masked_text = re.sub(r\"([1-4]\\d{6})|([가-힣])\", r\"\\1******\" if r\"\\1\" else \"홍홍홍\", id_text)\n",
    "\n",
    "print(masked_text)\n"
   ]
  },
  {
   "cell_type": "code",
   "execution_count": 159,
   "metadata": {},
   "outputs": [
    {
     "data": {
      "text/plain": [
       "'010-12**-**78'"
      ]
     },
     "execution_count": 159,
     "metadata": {},
     "output_type": "execute_result"
    }
   ],
   "source": [
    "re.sub(r'(\\d{3})-(\\d{2})(\\d{2})-(\\d{2})(\\d{2})',r'\\1-\\2**-**\\5','010-1234-5678')"
   ]
  }
 ],
 "metadata": {
  "kernelspec": {
   "display_name": "base",
   "language": "python",
   "name": "python3"
  },
  "language_info": {
   "codemirror_mode": {
    "name": "ipython",
    "version": 3
   },
   "file_extension": ".py",
   "mimetype": "text/x-python",
   "name": "python",
   "nbconvert_exporter": "python",
   "pygments_lexer": "ipython3",
   "version": "3.12.2"
  }
 },
 "nbformat": 4,
 "nbformat_minor": 2
}
