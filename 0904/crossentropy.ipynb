{
 "cells": [
  {
   "cell_type": "markdown",
   "metadata": {},
   "source": [
    "y = 2x+1 과 거의 똑같아졌다.\n",
    "\n",
    "W = 2 , y = 1"
   ]
  },
  {
   "cell_type": "code",
   "execution_count": 37,
   "metadata": {},
   "outputs": [
    {
     "name": "stdout",
     "output_type": "stream",
     "text": [
      "Epoch 0: Loss: 6.0\n",
      "Epoch 10: Loss: 5.275000095367432\n",
      "Epoch 20: Loss: 4.549999713897705\n",
      "Epoch 30: Loss: 3.825000524520874\n",
      "Epoch 40: Loss: 3.1000008583068848\n",
      "Epoch 50: Loss: 2.3750016689300537\n",
      "Epoch 60: Loss: 1.6500022411346436\n",
      "Epoch 70: Loss: 0.9250029921531677\n",
      "Epoch 80: Loss: 0.20000362396240234\n",
      "Epoch 90: Loss: 0.055003464221954346\n",
      "Epoch 100: Loss: 0.055003464221954346\n",
      "Epoch 110: Loss: 0.055003464221954346\n",
      "Epoch 120: Loss: 0.055003464221954346\n",
      "Epoch 130: Loss: 0.055003464221954346\n",
      "Epoch 140: Loss: 0.055003464221954346\n",
      "Epoch 150: Loss: 0.055003464221954346\n",
      "Epoch 160: Loss: 0.055003464221954346\n",
      "Epoch 170: Loss: 0.055003464221954346\n",
      "Epoch 180: Loss: 0.055003464221954346\n",
      "Epoch 190: Loss: 0.055003464221954346\n",
      "Epoch 200: Loss: 0.055003464221954346\n",
      "Epoch 210: Loss: 0.055003464221954346\n",
      "Epoch 220: Loss: 0.055003464221954346\n",
      "Epoch 230: Loss: 0.055003464221954346\n",
      "Epoch 240: Loss: 0.055003464221954346\n",
      "Epoch 250: Loss: 0.055003464221954346\n",
      "Epoch 260: Loss: 0.055003464221954346\n",
      "Epoch 270: Loss: 0.055003464221954346\n",
      "Epoch 280: Loss: 0.055003464221954346\n",
      "Epoch 290: Loss: 0.055003464221954346\n",
      "학습된 W: 2.0499987602233887\n",
      "학습된 b: 0.8199995160102844\n",
      "예측 결과: [11.069994 13.119992]\n"
     ]
    }
   ],
   "source": [
    "import tensorflow as tf\n",
    "import numpy as np\n",
    "\n",
    "# 데이터 생성 (y = 2x + 1)\n",
    "X = np.array([1, 2, 3, 4], dtype=np.float32)\n",
    "y = np.array([3, 5, 7, 9], dtype=np.float32)\n",
    "\n",
    "# 가중치, 바이어스 초기화\n",
    "W = tf.Variable(0.0)\n",
    "b = tf.Variable(0.0)\n",
    "\n",
    "def linear_model(X):\n",
    "    return W * X + b\n",
    "\n",
    "def mean_squared_error(y_true, y_pred):\n",
    "    return tf.reduce_mean(tf.square(y_true - y_pred))\n",
    "\n",
    "# root_mean_squared_error 수정: math.sqrt 대신 tf.sqrt 사용\n",
    "def root_mean_squared_error(y_true, y_pred):\n",
    "    return tf.sqrt(tf.reduce_mean(tf.square(y_true - y_pred)))\n",
    "\n",
    "def mean_absolute_error(y_true,y_pred):\n",
    "    return tf.abs(tf.reduce_mean(y_true - y_pred))\n",
    "\n",
    "optimizer = tf.optimizers.SGD(learning_rate=0.01)\n",
    "\n",
    "# 학습 과정 정의\n",
    "def train_step(X, y):\n",
    "    with tf.GradientTape() as tape:\n",
    "        y_pred = linear_model(X)\n",
    "        loss = mean_squared_error(y, y_pred)\n",
    "    gradients = tape.gradient(loss, [W, b])\n",
    "    optimizer.apply_gradients(zip(gradients, [W, b]))\n",
    "    return loss\n",
    "\n",
    "# root_train_step 수정\n",
    "def root_train_step(X, y):\n",
    "    with tf.GradientTape() as tape:\n",
    "        y_pred = linear_model(X)\n",
    "        loss = root_mean_squared_error(y, y_pred)\n",
    "    gradients = tape.gradient(loss, [W, b])\n",
    "    optimizer.apply_gradients(zip(gradients, [W, b]))\n",
    "    return loss\n",
    "\n",
    "# root_train_step 수정\n",
    "def mae_root_train_step(X, y):\n",
    "    with tf.GradientTape() as tape:\n",
    "        y_pred = linear_model(X)\n",
    "        loss = mean_absolute_error(y, y_pred)\n",
    "    gradients = tape.gradient(loss, [W, b])\n",
    "    optimizer.apply_gradients(zip(gradients, [W, b]))\n",
    "    return loss\n",
    "\n",
    "# 학습 반복\n",
    "epochs = 300\n",
    "for epoch in range(epochs):\n",
    "    # loss = root_train_step(X, y)\n",
    "    # loss = train_step(X, y)\n",
    "    loss = mae_root_train_step(X, y)\n",
    "    if epoch % 10 == 0:\n",
    "        print(f\"Epoch {epoch}: Loss: {loss.numpy()}\")\n",
    "\n",
    "# 학습된 파라미터 출력\n",
    "print(f\"학습된 W: {W.numpy()}\")\n",
    "print(f\"학습된 b: {b.numpy()}\")\n",
    "\n",
    "# 예측 결과 출력\n",
    "X_test = np.array([5, 6], dtype=np.float32)\n",
    "y_test_pred = linear_model(X_test)\n",
    "print(f\"예측 결과: {y_test_pred.numpy()}\")\n"
   ]
  },
  {
   "cell_type": "markdown",
   "metadata": {},
   "source": [
    "---\n"
   ]
  },
  {
   "cell_type": "code",
   "execution_count": 38,
   "metadata": {},
   "outputs": [],
   "source": [
    "y_true = np.array([[0,1,0],[1,0,0],[0,1,0]])\n",
    "y_pred = np.array([[0.1,0.7,0.2],[0.8,0.1,0.15],[0.2,0.6,0.3]])"
   ]
  },
  {
   "cell_type": "code",
   "execution_count": 41,
   "metadata": {},
   "outputs": [
    {
     "data": {
      "text/plain": [
       "<tf.Tensor: shape=(3,), dtype=float64, numpy=array([0.35667494, 0.27193372, 0.6061358 ])>"
      ]
     },
     "execution_count": 41,
     "metadata": {},
     "output_type": "execute_result"
    }
   ],
   "source": [
    "tf.keras.losses.categorical_crossentropy(y_true,y_pred)"
   ]
  },
  {
   "cell_type": "code",
   "execution_count": 42,
   "metadata": {},
   "outputs": [
    {
     "data": {
      "text/plain": [
       "<tf.Tensor: shape=(), dtype=float64, numpy=0.21666666666666667>"
      ]
     },
     "execution_count": 42,
     "metadata": {},
     "output_type": "execute_result"
    }
   ],
   "source": [
    "tf.reduce_mean(tf.abs(y_true-y_pred))"
   ]
  },
  {
   "cell_type": "code",
   "execution_count": 43,
   "metadata": {},
   "outputs": [
    {
     "data": {
      "text/plain": [
       "<tf.Tensor: shape=(), dtype=float64, numpy=0.05583333333333334>"
      ]
     },
     "execution_count": 43,
     "metadata": {},
     "output_type": "execute_result"
    }
   ],
   "source": [
    "tf.reduce_mean(tf.square(y_true-y_pred))"
   ]
  },
  {
   "cell_type": "code",
   "execution_count": 44,
   "metadata": {},
   "outputs": [
    {
     "data": {
      "text/plain": [
       "<tf.Tensor: shape=(), dtype=float64, numpy=0.23629078131263043>"
      ]
     },
     "execution_count": 44,
     "metadata": {},
     "output_type": "execute_result"
    }
   ],
   "source": [
    "tf.sqrt(tf.reduce_mean(tf.square(y_true-y_pred)))"
   ]
  }
 ],
 "metadata": {
  "kernelspec": {
   "display_name": "base",
   "language": "python",
   "name": "python3"
  },
  "language_info": {
   "codemirror_mode": {
    "name": "ipython",
    "version": 3
   },
   "file_extension": ".py",
   "mimetype": "text/x-python",
   "name": "python",
   "nbconvert_exporter": "python",
   "pygments_lexer": "ipython3",
   "version": "3.12.2"
  }
 },
 "nbformat": 4,
 "nbformat_minor": 2
}
