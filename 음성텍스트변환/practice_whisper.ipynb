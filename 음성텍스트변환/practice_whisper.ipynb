{
 "cells": [
  {
   "cell_type": "code",
   "execution_count": 232,
   "metadata": {},
   "outputs": [],
   "source": [
    "from pydub import AudioSegment\n",
    "from transformers import pipeline\n",
    "import torch\n",
    "import pandas as pd\n",
    "from ipywidgets import widgets, Button, Output\n",
    "from IPython.display import display\n",
    "import tkinter as tk\n",
    "from tkinter import scrolledtext\n",
    "from tkinter import ttk  # Progressbar를 위한 모듈\n",
    "import threading\n"
   ]
  },
  {
   "cell_type": "code",
   "execution_count": 2,
   "metadata": {},
   "outputs": [],
   "source": [
    "whisper_small = pipeline('automatic-speech-recognition','openai/whisper-small', device='mps')\n",
    "whisper_tiny = pipeline('automatic-speech-recognition','openai/whisper-tiny',device='mps')"
   ]
  },
  {
   "cell_type": "code",
   "execution_count": 3,
   "metadata": {},
   "outputs": [],
   "source": [
    "# whisper_small(\"./tts.mp3\", generate_kwargs = {\"language\":\"korean\"})"
   ]
  },
  {
   "cell_type": "code",
   "execution_count": 4,
   "metadata": {},
   "outputs": [
    {
     "name": "stderr",
     "output_type": "stream",
     "text": [
      "/opt/anaconda3/lib/python3.12/site-packages/transformers/models/whisper/generation_whisper.py:496: FutureWarning: The input name `inputs` is deprecated. Please make sure to use `input_features` instead.\n",
      "  warnings.warn(\n",
      "You have passed language=korean, but also have set `forced_decoder_ids` to [[1, None], [2, 50359]] which creates a conflict. `forced_decoder_ids` will be ignored in favor of language=korean.\n",
      "The attention mask is not set and cannot be inferred from input because pad token is same as eos token. As a consequence, you may observe unexpected behavior. Please pass your input's `attention_mask` to obtain reliable results.\n"
     ]
    },
    {
     "data": {
      "text/plain": [
       "{'text': ' 안녕하세요 오늘은 2014년 9월 11일 수요일입니다.'}"
      ]
     },
     "execution_count": 4,
     "metadata": {},
     "output_type": "execute_result"
    }
   ],
   "source": [
    "whisper_tiny(\"./tts.mp3\", generate_kwargs = {\"language\":\"korean\"})"
   ]
  },
  {
   "cell_type": "markdown",
   "metadata": {},
   "source": [
    "---"
   ]
  },
  {
   "cell_type": "code",
   "execution_count": 253,
   "metadata": {},
   "outputs": [
    {
     "name": "stderr",
     "output_type": "stream",
     "text": [
      "/opt/anaconda3/lib/python3.12/site-packages/transformers/tokenization_utils_base.py:1601: FutureWarning: `clean_up_tokenization_spaces` was not set. It will be set to `True` by default. This behavior will be depracted in transformers v4.45, and will be then set to `False` by default. For more details check this issue: https://github.com/huggingface/transformers/issues/31884\n",
      "  warnings.warn(\n"
     ]
    }
   ],
   "source": [
    "qa_model = pipeline(task='table-question-answering', model='dsba-lab/koreapas-finetuned-korwikitq', device=0)\n",
    "# qa_model = pipeline(task='question-answering', model='monologg/koelectra-base-v3-finetuned-korquad')"
   ]
  },
  {
   "cell_type": "code",
   "execution_count": 254,
   "metadata": {},
   "outputs": [],
   "source": [
    "file_path = './country.csv'\n",
    "country = pd.read_csv(file_path,encoding='euc-kr')"
   ]
  },
  {
   "cell_type": "code",
   "execution_count": 255,
   "metadata": {},
   "outputs": [
    {
     "data": {
      "text/html": [
       "<div>\n",
       "<style scoped>\n",
       "    .dataframe tbody tr th:only-of-type {\n",
       "        vertical-align: middle;\n",
       "    }\n",
       "\n",
       "    .dataframe tbody tr th {\n",
       "        vertical-align: top;\n",
       "    }\n",
       "\n",
       "    .dataframe thead th {\n",
       "        text-align: right;\n",
       "    }\n",
       "</style>\n",
       "<table border=\"1\" class=\"dataframe\">\n",
       "  <thead>\n",
       "    <tr style=\"text-align: right;\">\n",
       "      <th></th>\n",
       "      <th>한글국가명</th>\n",
       "      <th>영문국가명</th>\n",
       "      <th>국가코드(ISO 2자리)</th>\n",
       "      <th>수도</th>\n",
       "      <th>인구</th>\n",
       "      <th>인구설명</th>\n",
       "      <th>면적</th>\n",
       "      <th>면적설명</th>\n",
       "      <th>언어</th>\n",
       "      <th>종교</th>\n",
       "      <th>민족</th>\n",
       "      <th>기후</th>\n",
       "      <th>건국</th>\n",
       "    </tr>\n",
       "  </thead>\n",
       "  <tbody>\n",
       "    <tr>\n",
       "      <th>0</th>\n",
       "      <td>가나</td>\n",
       "      <td>Ghana</td>\n",
       "      <td>GH</td>\n",
       "      <td>아크라(Accra)</td>\n",
       "      <td>32400000</td>\n",
       "      <td>(22, EIU)</td>\n",
       "      <td>238537.0</td>\n",
       "      <td>(한반도 1.1배)</td>\n",
       "      <td>영어(공용어), 아산테어, 에웨어 등</td>\n",
       "      <td>기독교(71%), 이슬람교(17.6%)</td>\n",
       "      <td>아칸족(48%), 몰다그바니족(17%), 에웨족(14%), 가아단베족(7%), 구르...</td>\n",
       "      <td>NaN</td>\n",
       "      <td>1957.3.6.(영국에서 독립)</td>\n",
       "    </tr>\n",
       "    <tr>\n",
       "      <th>1</th>\n",
       "      <td>가봉</td>\n",
       "      <td>Gabon</td>\n",
       "      <td>GA</td>\n",
       "      <td>리브르빌(Libreville)</td>\n",
       "      <td>2340000</td>\n",
       "      <td>(21 World Bank)</td>\n",
       "      <td>267000.0</td>\n",
       "      <td>(한반도의 1.2배)</td>\n",
       "      <td>불어(공용어), Fang어</td>\n",
       "      <td>기독교(가톨릭 포함) 85%, 회교 9.8%, 토착종교</td>\n",
       "      <td>Fang, Echira, Adouma 등 40여 종족</td>\n",
       "      <td>NaN</td>\n",
       "      <td>1960.8.17. 프랑스로부터 독립</td>\n",
       "    </tr>\n",
       "    <tr>\n",
       "      <th>2</th>\n",
       "      <td>가이아나</td>\n",
       "      <td>Guyana</td>\n",
       "      <td>GY</td>\n",
       "      <td>조지타운(Georgetown)</td>\n",
       "      <td>750000</td>\n",
       "      <td>(2019 CIA)</td>\n",
       "      <td>214969.0</td>\n",
       "      <td>NaN</td>\n",
       "      <td>영어(공용어), Creole(현지 토속어)</td>\n",
       "      <td>기독교 57%, 힌두교 33%, 회교 9%, 기타 1%</td>\n",
       "      <td>동인도계 39.8%, 흑인 29.2%, 혼혈 19.9%, 아메리카 인디안 10.5%</td>\n",
       "      <td>NaN</td>\n",
       "      <td>NaN</td>\n",
       "    </tr>\n",
       "  </tbody>\n",
       "</table>\n",
       "</div>"
      ],
      "text/plain": [
       "  한글국가명   영문국가명 국가코드(ISO 2자리)                 수도        인구             인구설명  \\\n",
       "0    가나   Ghana             GH        아크라(Accra)  32400000        (22, EIU)   \n",
       "1    가봉   Gabon             GA  리브르빌(Libreville)   2340000  (21 World Bank)   \n",
       "2  가이아나  Guyana             GY  조지타운(Georgetown)    750000       (2019 CIA)   \n",
       "\n",
       "         면적         면적설명                       언어  \\\n",
       "0  238537.0   (한반도 1.1배)     영어(공용어), 아산테어, 에웨어 등   \n",
       "1  267000.0  (한반도의 1.2배)           불어(공용어), Fang어   \n",
       "2  214969.0          NaN  영어(공용어), Creole(현지 토속어)   \n",
       "\n",
       "                               종교  \\\n",
       "0           기독교(71%), 이슬람교(17.6%)   \n",
       "1  기독교(가톨릭 포함) 85%, 회교 9.8%, 토착종교   \n",
       "2  기독교 57%, 힌두교 33%, 회교 9%, 기타 1%   \n",
       "\n",
       "                                                  민족   기후  \\\n",
       "0  아칸족(48%), 몰다그바니족(17%), 에웨족(14%), 가아단베족(7%), 구르...  NaN   \n",
       "1                      Fang, Echira, Adouma 등 40여 종족  NaN   \n",
       "2     동인도계 39.8%, 흑인 29.2%, 혼혈 19.9%, 아메리카 인디안 10.5%  NaN   \n",
       "\n",
       "                     건국  \n",
       "0    1957.3.6.(영국에서 독립)  \n",
       "1  1960.8.17. 프랑스로부터 독립  \n",
       "2                   NaN  "
      ]
     },
     "execution_count": 255,
     "metadata": {},
     "output_type": "execute_result"
    }
   ],
   "source": [
    "country.head(3)"
   ]
  },
  {
   "cell_type": "code",
   "execution_count": 256,
   "metadata": {},
   "outputs": [],
   "source": [
    "# country = country[['한글국가명','수도','언어','면적설명']]\n",
    "country = country[['한글국가명','수도']]"
   ]
  },
  {
   "cell_type": "code",
   "execution_count": 257,
   "metadata": {},
   "outputs": [],
   "source": [
    "country.rename(columns={'한글국가명':'나라'},inplace=True)"
   ]
  },
  {
   "cell_type": "code",
   "execution_count": 258,
   "metadata": {},
   "outputs": [],
   "source": [
    "country.fillna('',inplace=True)"
   ]
  },
  {
   "cell_type": "code",
   "execution_count": 259,
   "metadata": {},
   "outputs": [
    {
     "name": "stdout",
     "output_type": "stream",
     "text": [
      "<class 'pandas.core.frame.DataFrame'>\n",
      "RangeIndex: 197 entries, 0 to 196\n",
      "Data columns (total 2 columns):\n",
      " #   Column  Non-Null Count  Dtype \n",
      "---  ------  --------------  ----- \n",
      " 0   나라      197 non-null    object\n",
      " 1   수도      197 non-null    object\n",
      "dtypes: object(2)\n",
      "memory usage: 3.2+ KB\n"
     ]
    }
   ],
   "source": [
    "country.info()"
   ]
  },
  {
   "cell_type": "code",
   "execution_count": 260,
   "metadata": {},
   "outputs": [
    {
     "data": {
      "text/html": [
       "<div>\n",
       "<style scoped>\n",
       "    .dataframe tbody tr th:only-of-type {\n",
       "        vertical-align: middle;\n",
       "    }\n",
       "\n",
       "    .dataframe tbody tr th {\n",
       "        vertical-align: top;\n",
       "    }\n",
       "\n",
       "    .dataframe thead th {\n",
       "        text-align: right;\n",
       "    }\n",
       "</style>\n",
       "<table border=\"1\" class=\"dataframe\">\n",
       "  <thead>\n",
       "    <tr style=\"text-align: right;\">\n",
       "      <th></th>\n",
       "      <th>나라</th>\n",
       "      <th>수도</th>\n",
       "    </tr>\n",
       "  </thead>\n",
       "  <tbody>\n",
       "    <tr>\n",
       "      <th>117</th>\n",
       "      <td>에리트레아</td>\n",
       "      <td>아스마라 (Asmara, 인구 80만명)</td>\n",
       "    </tr>\n",
       "    <tr>\n",
       "      <th>146</th>\n",
       "      <td>중앙아프리카</td>\n",
       "      <td>방기(Bangui, 79.4만명)</td>\n",
       "    </tr>\n",
       "    <tr>\n",
       "      <th>177</th>\n",
       "      <td>투르크메니스탄</td>\n",
       "      <td>아시가바트(Ashgabat, 84.6만명)</td>\n",
       "    </tr>\n",
       "    <tr>\n",
       "      <th>168</th>\n",
       "      <td>쿡제도</td>\n",
       "      <td>아바루아(Avarua)</td>\n",
       "    </tr>\n",
       "    <tr>\n",
       "      <th>132</th>\n",
       "      <td>우크라이나</td>\n",
       "      <td>키이우(키예프) (297만명, ‘19.12)</td>\n",
       "    </tr>\n",
       "    <tr>\n",
       "      <th>3</th>\n",
       "      <td>감비아</td>\n",
       "      <td>반줄(Banjul)</td>\n",
       "    </tr>\n",
       "    <tr>\n",
       "      <th>51</th>\n",
       "      <td>모잠비크</td>\n",
       "      <td>마푸투(Maputo)</td>\n",
       "    </tr>\n",
       "    <tr>\n",
       "      <th>143</th>\n",
       "      <td>적도기니</td>\n",
       "      <td>말라보(Malabo, 21만명)</td>\n",
       "    </tr>\n",
       "    <tr>\n",
       "      <th>58</th>\n",
       "      <td>미합중국</td>\n",
       "      <td>워싱턴(Washington, D.C)</td>\n",
       "    </tr>\n",
       "    <tr>\n",
       "      <th>19</th>\n",
       "      <td>니우에</td>\n",
       "      <td>알로피(Alofi)</td>\n",
       "    </tr>\n",
       "  </tbody>\n",
       "</table>\n",
       "</div>"
      ],
      "text/plain": [
       "          나라                        수도\n",
       "117    에리트레아    아스마라 (Asmara, 인구 80만명)\n",
       "146   중앙아프리카        방기(Bangui, 79.4만명)\n",
       "177  투르크메니스탄   아시가바트(Ashgabat, 84.6만명)\n",
       "168      쿡제도              아바루아(Avarua)\n",
       "132    우크라이나  키이우(키예프) (297만명, ‘19.12)\n",
       "3        감비아                반줄(Banjul)\n",
       "51      모잠비크               마푸투(Maputo)\n",
       "143     적도기니         말라보(Malabo, 21만명)\n",
       "58      미합중국      워싱턴(Washington, D.C)\n",
       "19       니우에                알로피(Alofi)"
      ]
     },
     "execution_count": 260,
     "metadata": {},
     "output_type": "execute_result"
    }
   ],
   "source": [
    "country.sample(10)"
   ]
  },
  {
   "cell_type": "code",
   "execution_count": 261,
   "metadata": {},
   "outputs": [
    {
     "data": {
      "text/plain": [
       "Index(['나라', '수도'], dtype='object')"
      ]
     },
     "execution_count": 261,
     "metadata": {},
     "output_type": "execute_result"
    }
   ],
   "source": [
    "country.columns"
   ]
  },
  {
   "cell_type": "code",
   "execution_count": 262,
   "metadata": {},
   "outputs": [
    {
     "name": "stderr",
     "output_type": "stream",
     "text": [
      "/opt/anaconda3/lib/python3.12/site-packages/transformers/tokenization_utils_base.py:1601: FutureWarning: `clean_up_tokenization_spaces` was not set. It will be set to `True` by default. This behavior will be depracted in transformers v4.45, and will be then set to `False` by default. For more details check this issue: https://github.com/huggingface/transformers/issues/31884\n",
      "  warnings.warn(\n"
     ]
    }
   ],
   "source": [
    "# KoELECTRA 질문-응답 모델 로드\n",
    "qa_model = pipeline(\"question-answering\", model=\"monologg/koelectra-base-v3-finetuned-korquad\",device=0)\n",
    "# qa_model = pipeline(\"question-answering\", model=\"monologg/distilkobert\", device=0)"
   ]
  },
  {
   "cell_type": "code",
   "execution_count": 264,
   "metadata": {},
   "outputs": [],
   "source": [
    "text = \"\"\n",
    "for index, row in country.iterrows():\n",
    "    text += f\"{row['나라']}의 수도는 {row['수도']}입니다\"\n",
    "\n",
    "# 질문과 문맥 설정\n",
    "context = text  # 변환된 텍스트"
   ]
  },
  {
   "cell_type": "code",
   "execution_count": 266,
   "metadata": {},
   "outputs": [
    {
     "ename": "",
     "evalue": "",
     "output_type": "error",
     "traceback": [
      "\u001b[1;31m현재 셀 또는 이전 셀에서 코드를 실행하는 동안 Kernel이 충돌했습니다. \n",
      "\u001b[1;31m셀의 코드를 검토하여 가능한 오류 원인을 식별하세요. \n",
      "\u001b[1;31m자세한 내용을 보려면 <a href='https://aka.ms/vscodeJupyterKernelCrash'>여기</a>를 클릭하세요. \n",
      "\u001b[1;31m자세한 내용은 Jupyter <a href='command:jupyter.viewOutput'>로그</a>를 참조하세요."
     ]
    }
   ],
   "source": [
    "# 질문을 처리하는 함수 정의\n",
    "def ask_question_in_background():\n",
    "    threading.Thread(target=ask_question).start()\n",
    "    \n",
    "def ask_question():\n",
    "    query = question_input.get()\n",
    "    if query:\n",
    "        try:\n",
    "            # 로딩바 시작\n",
    "            progress_bar.start()\n",
    "            progress_label.config(text=\"질문 처리 중...\")\n",
    "\n",
    "            # 결과 상자 초기화 및 상태 메시지 출력\n",
    "            output_area.config(state=tk.NORMAL)\n",
    "            output_area.delete(1.0, tk.END)\n",
    "            output_area.insert(tk.INSERT, \"질문 처리 중...\\n\")\n",
    "            output_area.config(state=tk.DISABLED)\n",
    "\n",
    "            # GUI 업데이트\n",
    "            root.update_idletasks()\n",
    "\n",
    "            # 모델에 질문과 문맥 입력\n",
    "            answer = qa_model(question=query, context=context)\n",
    "\n",
    "            # 답변 출력\n",
    "            result = answer['answer']\n",
    "        except Exception as e:\n",
    "            result = f\"오류가 발생했습니다: {str(e)}\"\n",
    "        finally:\n",
    "            # 로딩바 중지 및 텍스트 변경\n",
    "            progress_bar.stop()\n",
    "            progress_label.config(text=\"처리 완료\")\n",
    "\n",
    "        # 결과를 출력하는 텍스트 상자에 삽입\n",
    "        output_area.config(state=tk.NORMAL)  # 출력하기 전에 텍스트 상자를 활성화\n",
    "        output_area.delete(1.0, tk.END)  # 기존 내용을 지우기\n",
    "        output_area.insert(tk.INSERT, f\"질문: {query}\\n답변: {result}\\n\")\n",
    "        output_area.config(state=tk.DISABLED)  # 다시 텍스트 상자를 비활성화 (편집 방지)\n",
    "    else:\n",
    "        output_area.config(state=tk.NORMAL)\n",
    "        output_area.insert(tk.INSERT, \"질문을 입력해주세요.\\n\")\n",
    "        output_area.config(state=tk.DISABLED)\n",
    "\n",
    "# Tkinter GUI 설정\n",
    "root = tk.Tk()\n",
    "root.title(\"질문-응답 시스템\")\n",
    "root.geometry(\"500x450\")\n",
    "\n",
    "# 질문 입력 레이블과 입력창\n",
    "question_label = tk.Label(root, text=\"질문을 입력하세요:\")\n",
    "question_label.pack(pady=10)\n",
    "question_input = tk.Entry(root, width=50)\n",
    "question_input.pack(pady=10)\n",
    "\n",
    "# 질문 실행 버튼\n",
    "ask_button = tk.Button(root, text=\"질문 실행\", command=ask_question_in_background)\n",
    "ask_button.pack(pady=10)\n",
    "\n",
    "# 로딩바 추가\n",
    "progress_bar = ttk.Progressbar(root, orient=\"horizontal\", length=300, mode=\"indeterminate\")\n",
    "progress_bar.pack(pady=10)\n",
    "\n",
    "# 로딩 상태를 표시할 레이블\n",
    "progress_label = tk.Label(root, text=\"\")\n",
    "progress_label.pack()\n",
    "\n",
    "# 결과 출력 상자 (스크롤 가능)\n",
    "output_area = scrolledtext.ScrolledText(root, wrap=tk.WORD, width=60, height=10, state=tk.DISABLED)\n",
    "output_area.pack(pady=20)\n",
    "\n",
    "# GUI 메인 루프 실행\n",
    "root.mainloop()"
   ]
  }
 ],
 "metadata": {
  "kernelspec": {
   "display_name": "base",
   "language": "python",
   "name": "python3"
  },
  "language_info": {
   "codemirror_mode": {
    "name": "ipython",
    "version": 3
   },
   "file_extension": ".py",
   "mimetype": "text/x-python",
   "name": "python",
   "nbconvert_exporter": "python",
   "pygments_lexer": "ipython3",
   "version": "3.12.2"
  }
 },
 "nbformat": 4,
 "nbformat_minor": 2
}
