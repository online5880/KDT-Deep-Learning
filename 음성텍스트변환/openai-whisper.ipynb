{
 "cells": [
  {
   "cell_type": "code",
   "execution_count": 3,
   "metadata": {},
   "outputs": [
    {
     "name": "stderr",
     "output_type": "stream",
     "text": [
      "100%|█████████████████████████████████████| 1.42G/1.42G [01:51<00:00, 13.7MiB/s]\n",
      "/opt/anaconda3/lib/python3.12/site-packages/whisper/__init__.py:146: FutureWarning: You are using `torch.load` with `weights_only=False` (the current default value), which uses the default pickle module implicitly. It is possible to construct malicious pickle data which will execute arbitrary code during unpickling (See https://github.com/pytorch/pytorch/blob/main/SECURITY.md#untrusted-models for more details). In a future release, the default value for `weights_only` will be flipped to `True`. This limits the functions that could be executed during unpickling. Arbitrary objects will no longer be allowed to be loaded via this mode unless they are explicitly allowlisted by the user via `torch.serialization.add_safe_globals`. We recommend you start setting `weights_only=True` for any use case where you don't have full control of the loaded file. Please open an issue on GitHub for any issues related to this experimental feature.\n",
      "  checkpoint = torch.load(fp, map_location=device)\n",
      "/opt/anaconda3/lib/python3.12/site-packages/whisper/transcribe.py:115: UserWarning: FP16 is not supported on CPU; using FP32 instead\n",
      "  warnings.warn(\"FP16 is not supported on CPU; using FP32 instead\")\n"
     ]
    },
    {
     "name": "stdout",
     "output_type": "stream",
     "text": [
      " 꿈꿀 수 있는 미래를 위한 우리들의 외침 지금부터 시작하겠습니다 여러분 초콜릿 좋아하세요? 네 그럼 포도나 체리는요? 바니아에요 네 저는 전부 좋아하는 음식들인데요 특히 제가 초콜릿을 너무너무 좋아해서 항상 가방 어딘가에 챙겨놓을 정도입니다 그런데 이 음식들이 조만간 쉽게 먹을 수 없는 사치품이 된다고 합니다 기후변화로 수년 내에 아프리카의 코코아 재배지가 사라지고 다른 작물들의 상황 또한 비슷하다고 합니다 그런데 그냥 이렇게 생각하실 수 있어요 뭐 초콜릿? 까짓 거 안 먹으면 되지 그런데 2020년 영양실조로 목숨을 잃은 오세미만 어린이는 2억 명 전 세계 인구의 3분의 1은 적절한 음식을 구하지 못하고 있습니다 제가 여러분에게 질문을 하나 더 해보겠습니다 여러분들이 죽게 될 날짜와 죽게 될 이유 중 하나만 알 수 있다면 여러분은 어떤 것을 선택하실 건가요? 죽게 될 이유요 네 그러면 여러분은 어떤 것을 선택하실까요? 저는 죽게 될 날짜와 죽게 될 이유 중 하나만 알 수 있다면 여러분은 어떤 것을 선택하실 건가요? 여러분의 선택이 무엇이든 간에 여러분은 어떻게 해서라도 죽음을 막고자 하는 마음일 것입니다 그렇다면 제가 통 크게 두 가지의 답 모두를 알려드리겠습니다 여러분은 모두 2040년 기후변화로 죽게 됩니다 지금 좀 놀랍고 당황스럽죠? 지금은 지금까지 총 5명의 죽음을 겪고 있습니다 지금까지 총 5명의 죽음을 겪고 있습니다 이 5명의 죽음의 원인이 모두 기후변화였다는 사실을 알고 계셨나요? 아니요 과학자들이 경고하는 기후변화의 한계는 1.5도 그리고 그 시기는 2040년이 될 거라고 합니다 우리는 지금 20년 앞으로 다가온 6번째 죽음을 기다리고 있는 것이죠 그렇다면 대멸종을 막을 수 있는 방법은 없을까요? 지금 저의 질문에 대한 정답 또한 여러분들이 이미 알고 계십니다 바로 탄소배출을 줄이는 것 이미 정답을 알고 있는데 뭐가 문제인 걸까요? 국제사회는 지난 30년 전 처음으로 기후위계 해결을 위한 국제적 연대를 약속했습니다 그리고 그 후 수차례 국제회의와 협약을 만들었지만 약속을 지킨 나라는 없었습니다 매년 폭염, 한파, 폭설 등의 신기록을 기록하고 남극은 20도가 넘었으며 북극의 빙한은 절반이 사라졌습니다 또한 전 세계 인구의 10%가 기후난민 신세가 되었습니다 실천 없는 거창한 약속만으로는 지구를 지킬 수 없습니다 이렇게 미적되는 기성세대에게 경각심을 일깨워 준 것은 다름 아닌 10대 청소년이었는데요 스페인의 15세 소녀 툼베리 그녀는 매주 금요일 기후를 위한 등교 거부 라고 쓰여진 팬말을 들고 1인 시위를 벌이며 기후위기에 대응할 것을 촉구하고 있습니다 그녀의 외침은 기후 행동의 기폭제가 되어 전 세계의 청소년들을 움직이고 있는데요 전 세계의 다양한 툼베리들은 거리로 나와 기후 정의가 사회 정의임을 외치며 기성세대에게 당장 행동할 것을 요구하고 있습니다 그들의 외침은 절박함을 담고 있습니다 왜냐하면 그들이 기후위기에 가장 큰 피해를 입게 될 미래세대이기 때문이죠 이번 테드의 주제인 The Present It Is Our To Own 우리는 현재를 소유하고 있습니다 하지만 미래도 소유할 수 있을까요? 현실이 된 기후위기 속에서 수많은 툼베리에게 미래는 없습니다 현재 우리가 소유해야 하는 것은 지구 환경이 아닌 그것을 지키기 위한 노력일 뿐입니다 현재의 소유 대상을 바꿀 때 우리는 꿈꿀 수 있는 미래를 소유할 수 있게 될 것입니다 툼베리가 국제회의에서 기후위기에 대한 경각심을 경과하던 그날 한국의 청소년들도 정부의 공허한 기후 대책을 비판하며 국민청완 게시판에 글을 올렸는데요 하지만 그들의 외침은 주목받지 못했습니다 한국 툼베리의 외침은 왜 주목받지 못했을까요? 그 이유는 기후위기에 대한 우리 사회의 안일한 태도에서 찾을 수 있습니다 제대로 된 제도 개혁이 아닌 플러그 뽑기라든가 자원 재해령하기 등 개인의 실천만으로 기후위기를 해결할 수 있다는 안일한 인식으로 우리나라는 구체적인 온실가스 감축 목표조차 내놓지 못하고 있습니다 심지어 유행 기후변화 여벽에서는 5년 전의 계획을 그냥 그대로 제출하며 어떤 행동도 하지 않는 국가에 포함되거나 했습니다 그렇다면 이런 안일한 국가에서 벗어나 행동하는 국가로 되기 위해 우리는 어떻게 해야 할까요? 목표를 높게 잡고 빠르게 행동하라 기후위기는 구조적인 문제입니다 사회 전 분야에 관성을 뛰어넘는 과감한 전환이 필요합니다 국가 온실가스 감축 목표를 대폭 상향하고 이를 위해 탄수 없는 경제로의 거침없는 전환 신재생 에너지 산업에 과감한 투자 그리고 자연 생태계 보관을 위해 행동해야 합니다 툰베리의 외침처럼 지금 행동하지 않으면 미래는 없습니다 안전한 미래는 우리들의 권리입니다 일회용품 사용 줄이기, 새직 위주의 식단 등 개인의 실천에서부터 시작하여 청소년 기후단체를 통해 우리의 외침을 하나로 모아야 할 때입니다 마지막으로 다시 한 번 외치며 저의 이야기를 마무리하겠습니다 목표를 높게 잡고 빠르게 행동하라 감사합니다\n"
     ]
    }
   ],
   "source": [
    "import whisper\n",
    "\n",
    "model = whisper.load_model(\"medium\")\n",
    "result = model.transcribe(\"korean.mp3\")\n",
    "print(result[\"text\"])"
   ]
  }
 ],
 "metadata": {
  "kernelspec": {
   "display_name": "base",
   "language": "python",
   "name": "python3"
  },
  "language_info": {
   "codemirror_mode": {
    "name": "ipython",
    "version": 3
   },
   "file_extension": ".py",
   "mimetype": "text/x-python",
   "name": "python",
   "nbconvert_exporter": "python",
   "pygments_lexer": "ipython3",
   "version": "3.12.2"
  }
 },
 "nbformat": 4,
 "nbformat_minor": 2
}
