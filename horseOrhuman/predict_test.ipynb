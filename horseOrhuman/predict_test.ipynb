{
 "cells": [
  {
   "cell_type": "code",
   "execution_count": 15,
   "metadata": {},
   "outputs": [
    {
     "name": "stderr",
     "output_type": "stream",
     "text": [
      "/opt/anaconda3/lib/python3.12/site-packages/keras/src/saving/saving_lib.py:713: UserWarning: Skipping variable loading for optimizer 'adam', because it has 322 variables whereas the saved optimizer has 326 variables. \n",
      "  saveable.load_own_variables(weights_store.get(inner_path))\n"
     ]
    }
   ],
   "source": [
    "import numpy as np\n",
    "import tensorflow as tf\n",
    "from tensorflow.keras.models import load_model\n",
    "from tensorflow import keras\n",
    "from tensorflow.keras.preprocessing import image\n",
    "from sklearn.metrics import accuracy_score, precision_score, recall_score, f1_score, confusion_matrix, roc_auc_score\n",
    "import os\n",
    "import matplotlib.pyplot as plt\n",
    "from sklearn.preprocessing import LabelBinarizer\n",
    "from keras.layers import TFSMLayer\n",
    "from PIL import Image \n",
    "import cv2\n",
    "\n",
    "# 1. 모델 불러오기\n",
    "model = keras.models.load_model('./MobileNetV2_binary_modify.keras')\n",
    "\n",
    "# 2. 테스트 이미지 파일 경로 설정\n",
    "test_dir = './dataset/horse-or-human/test/'\n",
    "  # 테스트 이미지가 있는 폴더 경로\n",
    "image_size = (224, 224)  # 모델에 맞는 이미지 크기, 필요시 변경"
   ]
  },
  {
   "cell_type": "code",
   "execution_count": 16,
   "metadata": {},
   "outputs": [
    {
     "name": "stderr",
     "output_type": "stream",
     "text": [
      "/opt/anaconda3/lib/python3.12/site-packages/PIL/Image.py:1000: UserWarning: Palette images with Transparency expressed in bytes should be converted to RGBA images\n",
      "  warnings.warn(\n"
     ]
    }
   ],
   "source": [
    "# 3. 테스트 이미지 불러오기 및 전처리\n",
    "def load_and_preprocess_image(img_path, target_size):\n",
    "    try:\n",
    "        # 이미지를 열고 강제로 RGB로 변환 (그레이스케일 이미지를 3차원으로 처리)\n",
    "        img = Image.open(img_path).convert('RGB')\n",
    "        \n",
    "        # 이미지 크기 조정\n",
    "        img = img.resize(target_size)\n",
    "        \n",
    "        # 이미지를 Numpy 배열로 변환 후 0-1 범위로 정규화\n",
    "        img_array = np.array(img) / 255.0\n",
    "        \n",
    "        # 4차원 확장 (batch 차원 추가)\n",
    "        img_array = np.expand_dims(img_array, axis=0)\n",
    "        \n",
    "        return img_array\n",
    "    except Exception as e:\n",
    "        print(f\"Error loading image {img_path}: {e}\")\n",
    "        return None\n",
    "\n",
    "# 4. 테스트 이미지와 레이블 불러오기\n",
    "test_images = []\n",
    "test_labels = []  # 실제 레이블 (0: horse, 1: human)\n",
    "image_paths = [f for f in os.listdir(test_dir) if f.lower().endswith(('jpg', 'jpeg', 'png', 'webp'))]  # 이미지 파일만 선택\n",
    "for img_path in image_paths:\n",
    "    if 'horse' in img_path:  # 이미지 파일 이름에 'horse'이 포함된 경우\n",
    "        test_labels.append(0)  # horse는 0\n",
    "    elif 'human' in img_path:  # 이미지 파일 이름에 'human'이 포함된 경우\n",
    "        test_labels.append(1)  # human은 1\n",
    "\n",
    "    # 이미지 전처리\n",
    "    img_array = load_and_preprocess_image(os.path.join(test_dir, img_path), image_size)\n",
    "    if img_array is not None:\n",
    "        test_images.append(img_array)\n",
    "\n",
    "# Numpy 배열로 변환\n",
    "if test_images:\n",
    "    test_images = np.vstack(test_images)\n",
    "    test_labels = np.array(test_labels)\n",
    "else:\n",
    "    print(\"No valid images were found.\")"
   ]
  },
  {
   "cell_type": "code",
   "execution_count": 8,
   "metadata": {},
   "outputs": [
    {
     "name": "stdout",
     "output_type": "stream",
     "text": [
      "Processed images: 235, Processed labels: 235\n"
     ]
    }
   ],
   "source": [
    "# 이미지 전처리 및 누락된 이미지 확인\n",
    "test_images = []\n",
    "test_labels = []  # 실제 레이블 (0: horse, 1: human)\n",
    "\n",
    "for img_path in image_paths:\n",
    "    if 'horse' in img_path:\n",
    "        test_labels.append(0)  # horse는 0\n",
    "    elif 'human' in img_path:\n",
    "        test_labels.append(1)  # human은 1\n",
    "\n",
    "    img_array = load_and_preprocess_image(os.path.join(test_dir, img_path), image_size)\n",
    "    \n",
    "    if img_array is not None and img_array.shape == (1, image_size[0], image_size[1], 3):  # 4차원 배열 확인\n",
    "        test_images.append(img_array)\n",
    "    else:\n",
    "        print(f\"Skipping image due to processing error: {img_path}\")\n",
    "\n",
    "print(f\"Processed images: {len(test_images)}, Processed labels: {len(test_labels)}\")\n"
   ]
  },
  {
   "cell_type": "code",
   "execution_count": 14,
   "metadata": {},
   "outputs": [
    {
     "name": "stdout",
     "output_type": "stream",
     "text": [
      "\u001b[1m8/8\u001b[0m \u001b[32m━━━━━━━━━━━━━━━━━━━━\u001b[0m\u001b[37m\u001b[0m \u001b[1m6s\u001b[0m 655ms/step\n",
      "Number of test labels: 235\n",
      "Number of predicted labels: 235\n",
      "Accuracy: 0.5191489361702127\n",
      "Precision: 0.0\n",
      "Recall: 0.0\n",
      "F1-Score: 0.0\n",
      "Confusion Matrix:\n",
      "[[122   0]\n",
      " [113   0]]\n"
     ]
    },
    {
     "name": "stderr",
     "output_type": "stream",
     "text": [
      "/opt/anaconda3/lib/python3.12/site-packages/sklearn/metrics/_classification.py:1509: UndefinedMetricWarning: Precision is ill-defined and being set to 0.0 due to no predicted samples. Use `zero_division` parameter to control this behavior.\n",
      "  _warn_prf(average, modifier, f\"{metric.capitalize()} is\", len(result))\n"
     ]
    }
   ],
   "source": [
    "# 5. 예측 수행\n",
    "# 먼저 test_images를 Numpy 배열로 변환\n",
    "test_images = np.vstack(test_images)  # 여기가 중요! 배치로 묶어야 함\n",
    "\n",
    "# 이제 모델에 올바르게 예측을 요청할 수 있음\n",
    "predictions = model.predict(test_images)  # 배치 입력으로 예측 수행\n",
    "predicted_labels = np.argmax(predictions, axis=1)  # 클래스별 확률에서 가장 높은 클래스 선택\n",
    "\n",
    "# 예측된 레이블과 실제 레이블의 개수 확인\n",
    "print(f\"Number of test labels: {len(test_labels)}\")\n",
    "print(f\"Number of predicted labels: {len(predicted_labels)}\")\n",
    "\n",
    "# 레이블 개수가 일치하지 않을 때 경고 메시지 출력\n",
    "if len(test_labels) != len(predicted_labels):\n",
    "    print(\"Mismatch in label counts!\")\n",
    "    print(f\"Test labels: {len(test_labels)}, Predicted labels: {len(predicted_labels)}\")\n",
    "else:\n",
    "    # 6. 성능 지표 계산 (개수가 일치할 때만 계산)\n",
    "    accuracy = accuracy_score(test_labels, predicted_labels)\n",
    "    precision = precision_score(test_labels, predicted_labels)\n",
    "    recall = recall_score(test_labels, predicted_labels)\n",
    "    f1 = f1_score(test_labels, predicted_labels)\n",
    "    conf_matrix = confusion_matrix(test_labels, predicted_labels)\n",
    "\n",
    "    # 성능 지표 출력\n",
    "    print(f\"Accuracy: {accuracy}\")\n",
    "    print(f\"Precision: {precision}\")\n",
    "    print(f\"Recall: {recall}\")\n",
    "    print(f\"F1-Score: {f1}\")\n",
    "    print(f\"Confusion Matrix:\\n{conf_matrix}\")\n"
   ]
  }
 ],
 "metadata": {
  "kernelspec": {
   "display_name": "base",
   "language": "python",
   "name": "python3"
  },
  "language_info": {
   "codemirror_mode": {
    "name": "ipython",
    "version": 3
   },
   "file_extension": ".py",
   "mimetype": "text/x-python",
   "name": "python",
   "nbconvert_exporter": "python",
   "pygments_lexer": "ipython3",
   "version": "3.12.2"
  }
 },
 "nbformat": 4,
 "nbformat_minor": 2
}
