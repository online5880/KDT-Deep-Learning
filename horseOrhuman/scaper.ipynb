{
 "cells": [
  {
   "cell_type": "code",
   "execution_count": 8,
   "metadata": {},
   "outputs": [],
   "source": [
    "import requests\n",
    "from bs4 import BeautifulSoup\n",
    "import os\n",
    "\n",
    "# 이미지 저장 폴더 설정\n",
    "save_folder = \"./horse_images\"\n",
    "if not os.path.exists(save_folder):\n",
    "    os.makedirs(save_folder)\n",
    "\n",
    "# 스크래핑할 페이지 URL 설정 (검색어는 'horse')\n",
    "url = \"https://www.pexels.com/search/horse/\"\n",
    "\n",
    "# 웹 페이지 요청\n",
    "response = requests.get(url)\n",
    "soup = BeautifulSoup(response.text, 'html.parser')\n",
    "\n",
    "# 이미지 태그를 찾기\n",
    "image_tags = soup.find_all('img')\n",
    "\n",
    "# 이미지 URL 추출 및 다운로드\n",
    "image_urls = []\n",
    "for img in image_tags:\n",
    "    img_url = img.get('src')\n",
    "    if img_url:\n",
    "        image_urls.append(img_url)\n",
    "\n",
    "# 이미지 다운로드\n",
    "for i, img_url in enumerate(image_urls):\n",
    "    img_data = requests.get(img_url).content\n",
    "    with open(os.path.join(save_folder, f\"horse_{i+1}.jpg\"), 'wb') as img_file:\n",
    "        img_file.write(img_data)\n",
    "        print(f\"Downloaded: horse_{i+1}.jpg\")\n"
   ]
  }
 ],
 "metadata": {
  "kernelspec": {
   "display_name": "base",
   "language": "python",
   "name": "python3"
  },
  "language_info": {
   "codemirror_mode": {
    "name": "ipython",
    "version": 3
   },
   "file_extension": ".py",
   "mimetype": "text/x-python",
   "name": "python",
   "nbconvert_exporter": "python",
   "pygments_lexer": "ipython3",
   "version": "3.12.2"
  }
 },
 "nbformat": 4,
 "nbformat_minor": 2
}
