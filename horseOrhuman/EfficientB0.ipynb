{
 "cells": [
  {
   "cell_type": "code",
   "execution_count": 1,
   "metadata": {},
   "outputs": [],
   "source": [
    "import tensorflow as tf\n",
    "from tensorflow.keras import layers, models\n",
    "from tensorflow.keras.applications import EfficientNetB0, MobileNetV2\n",
    "from tensorflow.keras.callbacks import EarlyStopping, ModelCheckpoint\n",
    "from collections import Counter\n",
    "import random\n",
    "import cv2\n",
    "\n",
    "\n",
    "# Mixed Precision 설정 (Apple Silicon에서 성능 향상)\n",
    "from tensorflow.keras import mixed_precision\n",
    "mixed_precision.set_global_policy('mixed_float16')  # 반정밀도 설정"
   ]
  },
  {
   "cell_type": "code",
   "execution_count": 2,
   "metadata": {},
   "outputs": [],
   "source": [
    "# MobileNetV2 모델 사용, 입력 크기는 300x300\n",
    "base_model = EfficientNetB0(weights='imagenet', include_top=False, input_shape=(300, 300, 3))"
   ]
  },
  {
   "cell_type": "code",
   "execution_count": 3,
   "metadata": {},
   "outputs": [],
   "source": [
    "# 추가 레이어 쌓기\n",
    "model = models.Sequential([\n",
    "    base_model,\n",
    "    layers.GlobalAveragePooling2D(),\n",
    "    layers.Dense(512, activation='relu'),\n",
    "    layers.Dense(1, activation='sigmoid', dtype='float32')  # 이진 분류, 마지막 출력은 float32로 유지\n",
    "])"
   ]
  },
  {
   "cell_type": "code",
   "execution_count": 4,
   "metadata": {},
   "outputs": [],
   "source": [
    "# 모델 컴파일\n",
    "model.compile(loss='binary_crossentropy',\n",
    "              optimizer='adam',\n",
    "              metrics=['accuracy'])"
   ]
  },
  {
   "cell_type": "code",
   "execution_count": 5,
   "metadata": {},
   "outputs": [],
   "source": [
    "# 조기 종료 콜백 설정\n",
    "early_stopping = EarlyStopping(monitor='val_loss', patience=3, restore_best_weights=True)\n",
    "\n",
    "# ModelCheckpoint 콜백 설정\n",
    "checkpoint = ModelCheckpoint(\n",
    "    'best_model.keras',  # 저장할 파일 이름\n",
    "    monitor='val_loss',  # val_loss가 가장 낮을 때 저장\n",
    "    save_best_only=True,  # 가장 성능이 좋은 모델만 저장\n",
    "    mode='min',  # 손실이 낮을수록 좋으므로 'min' 모드 사용\n",
    "    verbose=1  # 모델이 저장될 때마다 로그 출력\n",
    ")"
   ]
  },
  {
   "cell_type": "code",
   "execution_count": 6,
   "metadata": {},
   "outputs": [],
   "source": [
    "# 특정 각도로 이미지를 회전시키는 함수\n",
    "\n",
    "def rotate_image(image):\n",
    "    # 회전 각도를 무작위 선택\n",
    "    angle = random.choice([45, 90])\n",
    "    (h, w) = image.shape[:2]\n",
    "    center = (w // 2, h // 2)\n",
    "    # 회전 행렬 구하기\n",
    "    M = cv2.getRotationMatrix2D(center, angle, 1.0)\n",
    "    rotated_image = cv2.warpAffine(image, M, (w, h))\n",
    "    return rotated_image"
   ]
  },
  {
   "cell_type": "code",
   "execution_count": 7,
   "metadata": {},
   "outputs": [
    {
     "name": "stdout",
     "output_type": "stream",
     "text": [
      "Found 822 images belonging to 2 classes.\n",
      "Found 205 images belonging to 2 classes.\n",
      "클래스별 이미지 개수: Counter({1: 422, 0: 400})\n",
      "클래스 가중치: {0: 2.055, 1: 1.947867298578199}\n"
     ]
    }
   ],
   "source": [
    "train_dir = './dataset/horse-or-human/train/'\n",
    "\n",
    "# 데이터 증강을 위한 ImageDataGenerator 설정\n",
    "train_datagen = tf.keras.preprocessing.image.ImageDataGenerator(\n",
    "    rescale=1 / 255,  # 0~1 사이로 픽셀 값 정규화\n",
    "    zoom_range=0.5,  # 최대 50% 무작위 확대 또는 축소\n",
    "    horizontal_flip=True,  # 좌우반전 무작위\n",
    "    vertical_flip=True,\n",
    "    fill_mode=\"nearest\",  # 변환 시 빈공간 주변 픽셀값으로 채움\n",
    "    preprocessing_function=rotate_image,  # 사용자 정의함수 기반 회전\n",
    "    validation_split=0.2,  # 검증 데이터 20% 비율\n",
    ")\n",
    "# train set\n",
    "train_generator = train_datagen.flow_from_directory(\n",
    "    train_dir,\n",
    "    target_size=(300, 300),  # 해상도 조절\n",
    "    batch_size=32,  # 배치 크기\n",
    "    class_mode=\"binary\",  # 분류 방법\n",
    "    subset=\"training\",\n",
    ")\n",
    "# valid set\n",
    "valid_generator = train_datagen.flow_from_directory(\n",
    "    train_dir,\n",
    "    target_size=(300, 300),\n",
    "    batch_size=32,\n",
    "    class_mode=\"binary\",\n",
    "    subset=\"validation\",\n",
    ")\n",
    "\n",
    "# 각 클래스의 이미지 개수 확인\n",
    "class_counts = Counter(train_generator.classes)\n",
    "print(\"클래스별 이미지 개수:\", class_counts)\n",
    "\n",
    "# 총 이미지 개수\n",
    "total_images = sum(class_counts.values())\n",
    "\n",
    "# 클래스별로 가중치 설정 (이미지 개수가 적은 클래스에 더 높은 가중치 부여)\n",
    "class_weights = {\n",
    "    0: total_images / class_counts[0],  # 말 클래스에 대한 가중치\n",
    "    1: total_images / class_counts[1],  # 사람 클래스에 대한 가중치\n",
    "}\n",
    "\n",
    "print(\"클래스 가중치:\", class_weights)"
   ]
  },
  {
   "cell_type": "code",
   "execution_count": 8,
   "metadata": {},
   "outputs": [
    {
     "name": "stdout",
     "output_type": "stream",
     "text": [
      "Epoch 1/5\n"
     ]
    },
    {
     "name": "stderr",
     "output_type": "stream",
     "text": [
      "/opt/anaconda3/lib/python3.12/site-packages/keras/src/trainers/data_adapters/py_dataset_adapter.py:122: UserWarning: Your `PyDataset` class should call `super().__init__(**kwargs)` in its constructor. `**kwargs` can include `workers`, `use_multiprocessing`, `max_queue_size`. Do not pass these arguments to `fit()`, as they will be ignored.\n",
      "  self._warn_if_super_not_called()\n"
     ]
    },
    {
     "name": "stdout",
     "output_type": "stream",
     "text": [
      "\u001b[1m8/8\u001b[0m \u001b[32m━━━━━━━━━━━━━━━━━━━━\u001b[0m\u001b[37m\u001b[0m \u001b[1m91s\u001b[0m 7s/step - accuracy: 0.7599 - loss: 1.0017\n",
      "Epoch 2/5\n"
     ]
    },
    {
     "name": "stderr",
     "output_type": "stream",
     "text": [
      "/opt/anaconda3/lib/python3.12/site-packages/keras/src/callbacks/early_stopping.py:155: UserWarning: Early stopping conditioned on metric `val_loss` which is not available. Available metrics are: accuracy,loss\n",
      "  current = self.get_monitor_value(logs)\n",
      "/opt/anaconda3/lib/python3.12/site-packages/keras/src/callbacks/model_checkpoint.py:206: UserWarning: Can save best model only with val_loss available, skipping.\n",
      "  self._save_model(epoch=epoch, batch=None, logs=logs)\n"
     ]
    },
    {
     "name": "stdout",
     "output_type": "stream",
     "text": [
      "\u001b[1m8/8\u001b[0m \u001b[32m━━━━━━━━━━━━━━━━━━━━\u001b[0m\u001b[37m\u001b[0m \u001b[1m61s\u001b[0m 8s/step - accuracy: 0.9730 - loss: 0.1386\n",
      "Epoch 3/5\n",
      "\u001b[1m8/8\u001b[0m \u001b[32m━━━━━━━━━━━━━━━━━━━━\u001b[0m\u001b[37m\u001b[0m \u001b[1m57s\u001b[0m 7s/step - accuracy: 0.9604 - loss: 0.4136\n",
      "Epoch 4/5\n",
      "\u001b[1m8/8\u001b[0m \u001b[32m━━━━━━━━━━━━━━━━━━━━\u001b[0m\u001b[37m\u001b[0m \u001b[1m20s\u001b[0m 1s/step - accuracy: 0.9414 - loss: 0.3223  \n",
      "Epoch 5/5\n"
     ]
    },
    {
     "name": "stderr",
     "output_type": "stream",
     "text": [
      "2024-09-06 16:14:32.364005: I tensorflow/core/framework/local_rendezvous.cc:404] Local rendezvous is aborting with status: OUT_OF_RANGE: End of sequence\n",
      "\t [[{{node IteratorGetNext}}]]\n",
      "/opt/anaconda3/lib/python3.12/contextlib.py:158: UserWarning: Your input ran out of data; interrupting training. Make sure that your dataset or generator can generate at least `steps_per_epoch * epochs` batches. You may need to use the `.repeat()` function when building your dataset.\n",
      "  self.gen.throw(value)\n"
     ]
    },
    {
     "name": "stdout",
     "output_type": "stream",
     "text": [
      "\u001b[1m8/8\u001b[0m \u001b[32m━━━━━━━━━━━━━━━━━━━━\u001b[0m\u001b[37m\u001b[0m \u001b[1m80s\u001b[0m 10s/step - accuracy: 0.9549 - loss: 0.3081\n"
     ]
    }
   ],
   "source": [
    "# 모델 학습 (훈련/검증 데이터 사용)\n",
    "history = model.fit(\n",
    "    train_generator,\n",
    "    steps_per_epoch=8,  # 전체 훈련 데이터 사용\n",
    "    epochs=5,  # 최대 20 에포크\n",
    "    callbacks=[early_stopping, checkpoint],\n",
    "    class_weight=class_weights  # 클래스별 가중치 적용\n",
    ")  # 조기 종료 및 체크포인트 콜백 추가"
   ]
  },
  {
   "cell_type": "code",
   "execution_count": 9,
   "metadata": {},
   "outputs": [
    {
     "data": {
      "image/png": "[encoded data removed]",
      "text/plain": [
       "<Figure size 640x480 with 1 Axes>"
      ]
     },
     "metadata": {},
     "output_type": "display_data"
    }
   ],
   "source": [
    "from matplotlib import pyplot as plt\n",
    "\n",
    "\n",
    "plt.plot(history.history['accuracy'])\n",
    "plt.plot(history.history['loss'])\n",
    "plt.title('Model accuracy & loss')\n",
    "plt.xlabel('Epoch')\n",
    "plt.ylabel('value')\n",
    "plt.legend(['accuracy', 'loss'], loc='center right')\n",
    "plt.show()"
   ]
  },
  {
   "cell_type": "code",
   "execution_count": 11,
   "metadata": {},
   "outputs": [
    {
     "data": {
      "image/png": "[encoded data removed]",
      "text/plain": [
       "<Figure size 640x480 with 1 Axes>"
      ]
     },
     "metadata": {},
     "output_type": "display_data"
    }
   ],
   "source": [
    "plt.plot(history.history[\"accuracy\"])\n",
    "plt.plot(history.history[\"loss\"])\n",
    "# plt.plot(history.history[\"val_accuracy\"])\n",
    "# plt.plot(history.history[\"val_loss\"])\n",
    "\n",
    "plt.title(\"Model accuracy & loss\")\n",
    "plt.xlabel(\"Epoch\")\n",
    "plt.ylabel(\"value\")\n",
    "plt.legend(\n",
    "    [\"accuracy\", \"loss\", \"Validation Accuracy\", \"Validation Loss\"], loc=\"center right\"\n",
    ")\n",
    "plt.xlim((0,3))\n",
    "plt.ylim(0,3)\n",
    "plt.show()"
   ]
  },
  {
   "cell_type": "code",
   "execution_count": 12,
   "metadata": {},
   "outputs": [
    {
     "name": "stdout",
     "output_type": "stream",
     "text": [
      "32 32\n",
      "\u001b[1m1/1\u001b[0m \u001b[32m━━━━━━━━━━━━━━━━━━━━\u001b[0m\u001b[37m\u001b[0m \u001b[1m3s\u001b[0m 3s/step\n",
      "horse_15.webp: 사람, 확률: 0.99\n",
      "horse_16.jpg: 사람, 확률: 0.99\n",
      "horse_13.webp: 사람, 확률: 0.99\n",
      "horse_17.jpg: 사람, 확률: 0.99\n",
      "horse_14.jpg: 사람, 확률: 0.99\n",
      "human_08.jpg: 사람, 확률: 0.99\n",
      "horse_04.jpg: 사람, 확률: 0.99\n",
      "horse_10.jpg: 사람, 확률: 0.99\n",
      "human1.jpg: 사람, 확률: 0.99\n",
      "horse_11.jpg: 사람, 확률: 0.99\n",
      "horse_05.jpg: 사람, 확률: 0.99\n",
      "horse_07.jpg: 사람, 확률: 0.99\n",
      "human2.jpg: 사람, 확률: 0.99\n",
      "horse_01.jpeg: 사람, 확률: 0.99\n",
      "horse_06.jpg: 사람, 확률: 0.99\n",
      "horse_12.jpg: 사람, 확률: 0.99\n",
      "human_07.jpg: 사람, 확률: 0.99\n",
      "horse_23.jpg: 사람, 확률: 0.99\n",
      "horse_02.jpeg: 사람, 확률: 0.99\n",
      "horse_22.jpg: 사람, 확률: 0.99\n",
      "human_06.jpg: 사람, 확률: 0.99\n",
      "horse_20.jpg: 사람, 확률: 0.99\n",
      "horse_08.jpg: 사람, 확률: 0.99\n",
      "horse_09.jpg: 사람, 확률: 0.99\n",
      "horse_21.jpg: 사람, 확률: 0.99\n",
      "human_05.jpg: 사람, 확률: 0.99\n",
      "human_01.jpg: 사람, 확률: 0.99\n",
      "horse_19.jpg: 사람, 확률: 0.99\n",
      "horse_18.jpg: 사람, 확률: 0.99\n",
      "human_02.jpg: 사람, 확률: 0.99\n",
      "horse_03.jpeg: 사람, 확률: 0.99\n",
      "human_03.jpg: 사람, 확률: 0.99\n",
      "\n",
      "전체 맞춘 비율(정확도): 28.12%\n"
     ]
    },
    {
     "name": "stderr",
     "output_type": "stream",
     "text": [
      "/var/folders/dn/kpsvhr056zz6gvcnmgrkklzr0000gn/T/ipykernel_71910/1299690837.py:37: DeprecationWarning: Conversion of an array with ndim > 0 to a scalar is deprecated, and will error in future. Ensure you extract a single element from your array before performing this operation. (Deprecated NumPy 1.25.)\n",
      "  confidence = float(prediction)  # 예측 확률 (맞춤 비율)\n"
     ]
    }
   ],
   "source": [
    "import os\n",
    "import cv2\n",
    "import numpy as np\n",
    "# 이미지 경로 설정\n",
    "dlist = './dataset/horse-or-human/test/'\n",
    "predict_list = [f for f in os.listdir(dlist) if f.lower().endswith(('jpg', 'jpeg', 'png', 'webp'))]  # 이미지 파일만 선택\n",
    "\n",
    "# 실제 레이블 설정 (파일 이름에 따라 설정)\n",
    "true_labels = []\n",
    "for file_name in predict_list:\n",
    "    if \"human\" in file_name or \"사람\" in file_name:  # 사람을 나타내는 파일명에 따라 레이블 설정\n",
    "        true_labels.append(1)\n",
    "    elif \"horse\" in file_name or \"말\" in file_name:  # 말을 나타내는 파일명에 따라 레이블 설정\n",
    "        true_labels.append(0)\n",
    "        \n",
    "print(len(true_labels),len(predict_list))\n",
    "\n",
    "# 실제 레이블과 예측할 이미지 개수가 일치하는지 확인\n",
    "assert len(true_labels) == len(predict_list), \"레이블과 이미지 파일 개수가 일치하지 않습니다.\"\n",
    "\n",
    "# 이미지 전처리\n",
    "img = [cv2.imread(dlist + i) for i in predict_list]\n",
    "img = [cv2.resize(i, (300, 300)) for i in img]  # 모델 입력 크기에 맞게 이미지 크기 조정\n",
    "img = np.array(img)\n",
    "img = img.astype('float32') / 255.0  # 정규화\n",
    "\n",
    "# 분류\n",
    "cutoff = 0.5\n",
    "predictions = model.predict(img)\n",
    "\n",
    "# 예측 결과 출력 및 맞춘 비율 계산\n",
    "correct_count = 0\n",
    "total_count = len(predictions)\n",
    "\n",
    "for idx, prediction in enumerate(predictions):\n",
    "    file_name = predict_list[idx]\n",
    "    confidence = float(prediction)  # 예측 확률 (맞춤 비율)\n",
    "    predicted_label = 1 if confidence >= cutoff else 0  # cutoff에 따른 예측 레이블\n",
    "    \n",
    "    # 실제 레이블과 예측 레이블을 비교\n",
    "    if predicted_label == true_labels[idx]:\n",
    "        correct_count += 1  # 맞춘 경우 카운트 증가\n",
    "    \n",
    "    # 파일 이름과 확률 출력\n",
    "    if predicted_label == 1:\n",
    "        print(f\"{file_name}: 사람, 확률: {confidence:.2f}\")\n",
    "    else:\n",
    "        print(f\"{file_name}: 말, 확률: {1 - confidence:.2f}\")\n",
    "\n",
    "# 전체 맞춘 비율 (정확도) 계산\n",
    "accuracy = correct_count / total_count\n",
    "print(f\"\\n전체 맞춘 비율(정확도): {accuracy * 100:.2f}%\")"
   ]
  }
 ],
 "metadata": {
  "kernelspec": {
   "display_name": "tf",
   "language": "python",
   "name": "python3"
  },
  "language_info": {
   "codemirror_mode": {
    "name": "ipython",
    "version": 3
   },
   "file_extension": ".py",
   "mimetype": "text/x-python",
   "name": "python",
   "nbconvert_exporter": "python",
   "pygments_lexer": "ipython3",
   "version": "3.12.2"
  }
 },
 "nbformat": 4,
 "nbformat_minor": 2
}
